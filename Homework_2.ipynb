{
  "nbformat": 4,
  "nbformat_minor": 0,
  "metadata": {
    "colab": {
      "provenance": [],
      "include_colab_link": true
    },
    "kernelspec": {
      "name": "python3",
      "display_name": "Python 3"
    },
    "language_info": {
      "name": "python"
    }
  },
  "cells": [
    {
      "cell_type": "markdown",
      "metadata": {
        "id": "view-in-github",
        "colab_type": "text"
      },
      "source": [
        "<a href=\"https://colab.research.google.com/github/mordovinaad/Homework/blob/main/Homework_2.ipynb\" target=\"_parent\"><img src=\"https://colab.research.google.com/assets/colab-badge.svg\" alt=\"Open In Colab\"/></a>"
      ]
    },
    {
      "cell_type": "markdown",
      "source": [
        "# Домашнее задание 2\n",
        "\n",
        "## pandas + парсинг\n",
        "\n",
        "Здесь находится главная страница [Системного блока](https://sysblok.ru)\n",
        "\n",
        "Соберите корпус новостей (можно спарсить все новости или небольшую часть)\n",
        "\n",
        "Дедлайн: 29 декабря включительно"
      ],
      "metadata": {
        "id": "gWKJuEre_u-N"
      }
    },
    {
      "cell_type": "code",
      "execution_count": 16,
      "metadata": {
        "id": "pSRHGrfg_dpE"
      },
      "outputs": [],
      "source": [
        "# необходимые импорты\n",
        "import requests as rq\n",
        "from bs4 import BeautifulSoup\n",
        "import pandas as pd"
      ]
    },
    {
      "cell_type": "markdown",
      "source": [
        "### шаг 1"
      ],
      "metadata": {
        "id": "F-WJ-h_PA9Bf"
      }
    },
    {
      "cell_type": "code",
      "source": [
        "# соберите все ссылки на страницы с новостями (цикл for + range)\n",
        "# 1 страница: https://sysblok.ru\n",
        "# 2 страница: https://sysblok.ru/page/2\n",
        "# последняя: https://sysblok.ru/page/16\n",
        "\n",
        "all_page = ['https://sysblok.ru', ]\n",
        "\n",
        "# ваш код\n",
        "\n",
        "for i in range (2, 17):\n",
        "  all_page.append('https://sysblok.ru' + '/page/' + str(i))\n",
        "\n",
        "print(all_page)"
      ],
      "metadata": {
        "id": "1EZIxFPfAeV3",
        "colab": {
          "base_uri": "https://localhost:8080/"
        },
        "outputId": "8bc98919-f31e-4d07-f196-3b0c988fb0d3"
      },
      "execution_count": 10,
      "outputs": [
        {
          "output_type": "stream",
          "name": "stdout",
          "text": [
            "['https://sysblok.ru', 'https://sysblok.ru/page/2', 'https://sysblok.ru/page/3', 'https://sysblok.ru/page/4', 'https://sysblok.ru/page/5', 'https://sysblok.ru/page/6', 'https://sysblok.ru/page/7', 'https://sysblok.ru/page/8', 'https://sysblok.ru/page/9', 'https://sysblok.ru/page/10', 'https://sysblok.ru/page/11', 'https://sysblok.ru/page/12', 'https://sysblok.ru/page/13', 'https://sysblok.ru/page/14', 'https://sysblok.ru/page/15', 'https://sysblok.ru/page/16']\n"
          ]
        }
      ]
    },
    {
      "cell_type": "markdown",
      "source": [
        "### шаг 2"
      ],
      "metadata": {
        "id": "XeIBEKGyA-pn"
      }
    },
    {
      "cell_type": "code",
      "source": [
        "# с каждой страницы соберите ссылки на отдельные новости\n",
        "# подсказка: родительский тег h2 (проверяйте по нему), нужный нам - a\n",
        "\n",
        "all_links = []\n",
        "\n",
        "# ваш код\n",
        "for i in range (len(all_page)):\n",
        "  page = rq.get(all_page[i])\n",
        "  soup = BeautifulSoup(page.text, features=\"html.parser\")\n",
        "  for j in soup.find_all('a'):\n",
        "    if j.parent.name == 'h2':\n",
        "      all_links.append(j.get('href'))\n",
        "\n",
        "print(all_links)"
      ],
      "metadata": {
        "id": "x9ti7TfWA7VN",
        "colab": {
          "base_uri": "https://localhost:8080/"
        },
        "outputId": "4cd0f195-b677-4d98-b9e4-43eb307eced6"
      },
      "execution_count": 177,
      "outputs": [
        {
          "output_type": "stream",
          "name": "stdout",
          "text": [
            "['https://sysblok.ru/blog/kak-nepredvzjato-izuchat-organizacii-intervju-s-ljonej-juldashevym/', 'https://sysblok.ru/uncategorized/mashinnoe-obuchenie-klassifikacija/', 'https://sysblok.ru/blog/piraty-jelfijskij-jazyk-i-sekretnye-poslanija-kriptografija-i-zashhita-avtorskih-prav-chast-vtoraja-cifrovaja/', 'https://sysblok.ru/urban/kak-cifrovye-metody-spasajut-ljudej-ot-avarij/', 'https://sysblok.ru/test/krash-test-dlja-ljubitelej-deshjovyh-dram/', 'https://sysblok.ru/test/iz-rossii-s-dannymi-uznajte-region-po-statistike/', 'https://sysblok.ru/oriental/ot-korpusov-do-karty-bombardirovok-hirosimy-digital-humanities-v-japonii/', 'https://sysblok.ru/philology/zhizn-stala-chjorno-beloj-kak-menjalsja-jazyk-pojezii-silvii-plat/', 'https://sysblok.ru/arts/otmyt-istoriju-sankt-peterburga-kak-jentuziasty-vosstanavlivajut-pamjatniki/', 'https://sysblok.ru/technohistory/roboty-v-filmah-xx-veka-ot-nenavisti-k-ii-do-slijanija/', 'https://sysblok.ru/society/slovo-pacana-kak-internet-fenomen-chto-ishhut-v-poiskovikah-zriteli-seriala/', 'https://sysblok.ru/urban/segodnja-zavod-zavtra-futbolnoe-pole-kak-po-snimkam-iz-kosmosa-izuchajut-jevoljuciju-goroda/', 'https://sysblok.ru/oriental/ljudi-na-ladoni-biograficheskaja-baza-dannyh-po-istorii-japonii/', 'https://sysblok.ru/biologija/kak-ponjat-chto-koshke-bolno-opredelitel-koshachih-jemocij-po-mimike/', 'https://sysblok.ru/society/vozmozhen-li-mir-bez-spida-statistika-vich-v-rossii-i-v-mire/', 'https://sysblok.ru/urban/interaktivnaja-karta-hudozhestvennoj-zhizni-francii-xviii-veka-gde-zhili-zhivopiscy/', 'https://sysblok.ru/neuroscience/posmotret-na-mir-chuzhimi-glazami-pjat-issledovanij-s-mobilnymi-ajtrekerami/', 'https://sysblok.ru/society/jejdzhing-i-socialnoe-neravenstvo-iskusstvennyj-intellekt-v-mire-starejushhih-ljudej/', 'https://sysblok.ru/philology/stilometrija-drevnegrecheskih-tekstov-rabotaet-li-delta-i-chto-krome-nee/', 'https://sysblok.ru/test/kto-vy-dlja-chehova-test-na-osnove-pisem-klassika/', 'https://sysblok.ru/knowhow/chto-zhdjot-iskusstvennyj-intellekt-v-budushhem-prognozy-uchjonyh/', 'https://sysblok.ru/test/test-hudozhnik-ili-nejroset-otlichite-nastojashhuju-kartinu-ot-sgenerirovannoj/', 'https://sysblok.ru/oriental/stalin-chuchhe-kim-ir-sen-o-chjom-govorjat-zagolovki-severokorejskoj-pressy/', 'https://sysblok.ru/interviews/intervju-s-leonidom-borodkinym-ob-istoricheskoj-informatike-cifrovoj-istorii-i-ih-meste-pod-zontikom-d/', 'https://sysblok.ru/philology/jekzamen-dlja-igorja-viktorovicha-i-chatgpt-chej-rasskaz-luchshe-nejroseti-ili-pisatelja/', 'https://sysblok.ru/philology/kak-jeto-ne-rabotaet-tehnologii-nejroseti-pisatelja/', 'https://sysblok.ru/philology/kak-pisat-hudozhestvennye-teksty-s-nejrosetjami-i-ne-oblazhatsja-sovety-redaktora/', 'https://sysblok.ru/arts/telegram-spektakl-nevidimyj-basmach-kak-chat-bot-mozhet-prodlit-zhizn-teatru/', 'https://sysblok.ru/society/pochemu-medicine-nuzhny-informacionnye-tehnologii/', 'https://sysblok.ru/knowhow/rusalka-sela-na-shpagat-kak-nejroseti-generirujut-kartinki-i-podmenjajut-ponjatija/', 'https://sysblok.ru/courses/kak-raspoznat-teksty-i-sdelat-korpus-dlja-issledovanija-poshagovaja-instrukcija/', 'https://sysblok.ru/test/vy-lev-tolstoj-na-slovah-ili-na-dele-viktorina-po-redkim-slovam-iz-korpusa-tekstov-pisatelja/', 'https://sysblok.ru/neuroscience/pravda-glaza-kolet-150-let-istorii-ajtrekerov/', 'https://sysblok.ru/arts/kitajskaja-zhivopis-i-nejroset-kak-mashina-dajot-ocenku-kartinam/', 'https://sysblok.ru/society/zhenshhina-i-programmist-issleduem-gendernoe-neravenstvo-v-it-sfere/', 'https://sysblok.ru/test/chto-chitajut-v-2023-test-na-znanie-knizhnogo-rynka-v-rossii/', 'https://sysblok.ru/society/nauchim-ljubit-rodinu-i-mat-tvoju-o-chjom-govorjat-na-razgovorah-o-vazhnom/', 'https://sysblok.ru/philology/chto-obshhego-u-literatury-i-biologii-ili-kak-razvivalis-digital-humanities-v-rossii/', 'https://sysblok.ru/technohistory/utechka-v-it-kak-jemigranty-sozdali-brend-russkogo-programmista/', 'https://sysblok.ru/philology/stilometrija-kinodialogov-shest-zhanrov-v-poiskah-avtora/', 'https://sysblok.ru/arts/istorija-roka-rjepa-i-pop-muzyki-na-kazhdyj-den-jetot-den-v-muzyke/', 'https://sysblok.ru/technohistory/internet-na-sluzhbe-kommunizma-kak-sssr-sozdaval-svoju-jelektronnuju-set/', 'https://sysblok.ru/philology/pojasni-za-stil-kakomu-pojetu-podrazhaet-nejroset/', 'https://sysblok.ru/test/chto-vy-znaete-ob-abjuzerah-test-ob-uchastnikah-domashnego-nasilija/', 'https://sysblok.ru/arts/gosudarstvennyj-muzej-vostoka-ocifroval-koran-y/', 'https://sysblok.ru/society/knigi-1-h-rasshirjaem-granicy-dozvolennogo/', 'https://sysblok.ru/society/pljus-specoperacija-minus-svoboda-primer-kolichestvennogo-analiza-korpusov-smi/', 'https://sysblok.ru/philology/chto-my-uznali-ob-udarenii-v-russkom-jazyke-i-o-naivnoj-pojezii-iz-korpusa-stihi-ru/', 'https://sysblok.ru/philology/shest-rukopozhatij-vladimira-majakovskogo/', 'https://sysblok.ru/test/chto-vy-znaete-o-probleme-domashnego-i-partnjorskogo-nasilija/', 'https://sysblok.ru/society/bud-muzhikom-maskulinnost-v-jepohu-cifrovizacii-i-novoj-jetiki/', 'https://sysblok.ru/interviews/svetlana-podrezova-o-kollekcii-audiozapisei-pushkinskogo-doma-i-rabote-s-istochnikami/', 'https://sysblok.ru/test/test-kakaja-letnjaja-otkrytka-podhodit-vam/', 'https://sysblok.ru/digital-heritage/cultural-heritage-in-action-luchshie-praktiki-sohranenija-i-populjarizacii-kulturnogo-nasledija-v-evrope/', 'https://sysblok.ru/test/test-uznaete-li-vy-podkorpus-nkrja-po-harakternym-dlja-nego-slovam/', 'https://sysblok.ru/test/test-o-banalnosti-zla-60-let-knige-hanny-arendt/', 'https://sysblok.ru/philology/iskusstvennyj-intellekt-vs-fenomen-vladimira-nabokova/', 'https://sysblok.ru/society/chto-vlijaet-na-prodovolstvennuju-bezopasnost/', 'https://sysblok.ru/arts/kak-zvuchalo-nemoe-kino/', 'https://sysblok.ru/philology/golos-a-avtora-mozhet-li-odin-chelovek-pisat-kak-neskolko/', 'https://sysblok.ru/news/stroit-grafy-stalo-proshhe-vstrechajte-gephi-lite/', 'https://sysblok.ru/interviews/jazyk-i-tochka-nevozvrata-intervju-s-lingvistom-mihailom-danijelem-o-sohranenii-jazykov-i-jazykovom-raznoobrazii/', 'https://sysblok.ru/technohistory/mashina-upravljaet-tancem-kibernetika-v-teatre-i-muzyke-xx-veka/', 'https://sysblok.ru/oriental/kak-nauchit-kompjuter-raspoznavat-arabskie-teksty/', 'https://sysblok.ru/arts/navizualiziroval-lev-manovich-razgadyvaet-filmy-vertova/', 'https://sysblok.ru/digital-heritage/cifrovoj-arhiv-gazet-rossijskoj-imperii-ot-morskih-chudishh-do-vysochajshih-manifestov/', 'https://sysblok.ru/urban/preodolevaja-tishinu-chto-takoe-sound-studies-i-kak-sozdajutsja-zvukovye-karty/', 'https://sysblok.ru/test/test-kakoe-budushhee-vam-podhodit/', 'https://sysblok.ru/interviews/olga-dobrovidova-o-nauchnoj-kommunikacii-i-nauchnoj-zhurnalistike/', 'https://sysblok.ru/society/nemec-chekist-umeret-ubit-kak-politicheskij-rezhim-pronikaet-v-bessoznatelnoe/', 'https://sysblok.ru/digital-heritage/ot-analogovogo-k-cifrovomu-putevoditel-po-processu-ocifrovki-kollekcij-v-arhivah-muzejah-i-bibliotekah/', 'https://sysblok.ru/society/domashnee-i-partnerskoe-nasilie-v-rossii-skolko-u-nego-zhertv-i-kak-im-pomoch/', 'https://sysblok.ru/digitalmemory/kak-podgotovit-cifrovoe-nasledstvo-poka-ja-zhiv/', 'https://sysblok.ru/test/kak-horosho-vy-znaete-pesni-korolja-i-shuta/', 'https://sysblok.ru/digital-heritage/izuchenie-russkoj-kultury-podborka-cifrovyh-resursov/', 'https://sysblok.ru/arts/generativnoe-iskusstvo-kogda-shedevry-opredeljaet-sluchajnost/', 'https://sysblok.ru/history/magnitometrija-chto-jeto-takoe-i-kak-ejo-ispolzujut-v-arheologii/', 'https://sysblok.ru/technohistory/poigraem-v-proshloe-kak-istoricheskie-videoigry-vlijajut-na-sovremennost/', 'https://sysblok.ru/philology/ot-kyrgyzskogo-jeposa-do-chatgpt-chto-obsuzhdali-na-kruglom-stole-digital-humanities-v-centralnoj-azii/', 'https://sysblok.ru/philology/500-geroev-v-odnoj-sheme-o-chem-govorit-setevoj-analiz-vojny-i-mira/', 'https://sysblok.ru/pishu-tebe/24000-ocifrovannyh-staryh-otkrytok-proektu-pishu-tebe-dva-goda/', 'https://sysblok.ru/arts/kak-zhivet-sextech-industrija-i-chto-ee-ozhidaet-v-budushhem/', 'https://sysblok.ru/arts/cifrovye-kollekcii-muzeev-ot-virtualnyh-turov-do-onlajn-igr/', 'https://sysblok.ru/pishu-tebe/postcards-set/starinnye-otkrytki-o-kulture-idu-na-shaljapina-v-operu-faust/', 'https://sysblok.ru/arts/nuzhnyj-zhivoj-veselyj-pjanyj-horoshij-cifrovoj-analiz-tekstov-pesen-korolja-i-shuta/', 'https://sysblok.ru/knowhow/kak-rabotajut-jazykovye-modeli/', 'https://sysblok.ru/courses/kak-provesti-stilometricheskij-jeksperiment-s-pomoshhju-stylo/', 'https://sysblok.ru/arts/cifrovaja-rekonstrukcija-kak-vossozdali-portret-cherchillja-dlja-seriala-korona/', 'https://sysblok.ru/digitalmemory/chto-takoe-cifrovoe-nasledstvo/', 'https://sysblok.ru/interviews/otkrytye-dannye-protiv-mrakobesija-i-prenebrezhenija-realnostju-intervju-s-kirillom-maslinskim/', 'https://sysblok.ru/digital-heritage/unikalnye-knizhnye-pamjatniki-onlajn-ot-starinnyh-kart-sibiri-do-mohnatogo-lesnogo-chjuda/', 'https://sysblok.ru/oriental/russko-kitajskij-korpus-nkrja-ili-kak-prevratit-botvinju-v-gaspachcho/', 'https://sysblok.ru/courses/kak-doobuchit-jazykovuju-model-pisat-v-stile-dostoevskogo/', 'https://sysblok.ru/linguistics/ot-drevnerusskogo-do-korpusa-blogov-kak-izmenilsja-nacionalnyj-korpus-russkogo-jazyka-posle-redizajna/', 'https://sysblok.ru/society/bot-chatgpt-protiv-cheloveka-i-drugih-robotov/', 'https://sysblok.ru/technohistory/shifropanki-anarhisty-interneta/', 'https://sysblok.ru/pishu-tebe/postcards-set/i-voobshhe-hochu-na-pensiju-podborka-otkrytok-pro-trud/', 'https://sysblok.ru/test/ispytanie-botanika-test-po-rastenijam-rossii-iz-cifrovogo-gerbarija-mgu/', 'https://sysblok.ru/society/cifrovoj-konclager-kak-zakon-o-povestkah-cherez-gosuslugi-vzbudorazhil-rossijan/', 'https://sysblok.ru/society/haktivizm-kto-i-kak-vedet-borbu-v-kiberprostranstve/', 'https://sysblok.ru/news/chto-umeet-gpt-4-novaja-i-samaja-sovershennaja-jazykovaja-model-ot-openai/', 'https://sysblok.ru/pishu-tebe/kak-jeto-ustroeno-masterskie-pishu-tebe/', 'https://sysblok.ru/interviews/i-pust-vse-chitajut-odumajtes-anastasija-bonch-osmolovskaja-o-cifrovom-tolstom-i-peresborke-dh-posle-24-fevralja/', 'https://sysblok.ru/digest/god-posle-24-fevralja-glavnye-materialy-sistemnogo-bloka-o-vojne/', 'https://sysblok.ru/philology/gulliver-i-nejroseti-internet-banking-i-onlajn-torgovlja-v-proizvedenijah-pisatelej-xviii-xix-veka/', 'https://sysblok.ru/pishu-tebe/golos-holokosta-v-pishu-tebe-kak-my-poluchili-otkrytku-iz-getto/', 'https://sysblok.ru/test/ljubit-ili-ne-ljubit-gadaem-po-otkrytkam/', 'https://sysblok.ru/oriental/po-dorogam-velikogo-shelkovogo-puti-virtualnoe-puteshestvie-po-drevnim-marshrutam/', 'https://sysblok.ru/knowhow/soberi-ih-vseh-kak-record-linkage-pomogaet-obogashhat-bolshie-biograficheskie-dannye/', 'https://sysblok.ru/nlp/s-privetom-iz-anglii-u-multijazychnyh-jazykovyh-modelej-obnaruzhilsja-anglijskij-akcent/', 'https://sysblok.ru/arts/evrejskaja-kultura-v-muzejah-rf-i-ssha-v-chem-raznica-i-kak-ee-objasnit/', 'https://sysblok.ru/philology/strong-kak-pisateli-xix-veka-predskazali-messendzhery-internet-na-marse-i-nejroseti-strong/', 'https://sysblok.ru/pishu-tebe/vseh-blag-vam-zemnyh-i-nebesnyh-podborka-otkrytok-iz-korrespondencii-duhovnyh-lic/', 'https://sysblok.ru/digitalmemory/virtualnye-kladbishha-ot-kladbishh-gejmerov-do-kladbishh-domashnih-zhivotnyh/', 'https://sysblok.ru/digitalmemory/strong-virtualnye-kladbishha-mozhno-li-sozdat-sebe-cifrovoj-pamjatnik-strong/', 'https://sysblok.ru/digest/sistemnyj-blok-luchshee-za-2022-god/', 'https://sysblok.ru/interviews/personalistskie-diktatury-chashhe-nachinajut-vojny-jerika-frantc-ob-avtokratijah-ukraine-i-povodah-dlja-optimizma/', 'https://sysblok.ru/arts/strong-cifrovoe-i-klassicheskoe-iskusstvo-tochki-soprikosnovenija-strong/', 'https://sysblok.ru/society/spasaja-nasledie-kak-aktivisty-sohranjajut-kulturu-ukrainy/', 'https://sysblok.ru/test/test-chto-zagadat-pod-boj-kurantov/', 'https://sysblok.ru/interviews/govorit-o-vojne-nebespolezno-dinara-gagarina-o-digital-humanities-v-rossii-posle-24-fevralja/', 'https://sysblok.ru/philology/chto-govorit-o-personazhah-vojny-i-mira-ih-rech/', 'https://sysblok.ru/society/puzyr-filtrov-znaet-o-vas-vsjo-chto-jeto-takoe-i-kak-on-formiruet-mediapotreblenie/', 'https://sysblok.ru/history/skifija-egipet-vavilon-kak-cifrovye-metody-pomogajut-v-izuchenii-srednevekovyh-kart/', 'https://sysblok.ru/digital-heritage/lazery-gps-i-kamera-na-360-gradusov-kak-studenty-sdelali-3d-tur-po-cerkvi-x-veka/', 'https://sysblok.ru/pishu-tebe/napoval-iz-revolvera-i-ukus-krolika-ljubimye-otkrytki-rasshifrovshhikov-pishu-tebe/', 'https://sysblok.ru/arts/judif-vs-salomeja-kakoj-biblejskij-sjuzhet-vsemu-golova/', 'https://sysblok.ru/society/kapitalizm-slezhki-kak-nas-prodajut-korporacijam-gosudarstvu-i-hakeram/', 'https://sysblok.ru/news/chto-takoe-vzliza-i-kto-nosil-chaplyzhku-cifrovoe-slovo-tolstogo/', 'https://sysblok.ru/society/shizofrenija-jepilepsija-slomannye-ruki-chto-guglili-rossijane-posle-objavlenija-mobilizacii-v-rossii/', 'https://sysblok.ru/arts/jevoljucija-priemov-v-kino-filmy-s-narushennoj-hronologiej/', 'https://sysblok.ru/history/otkrytki-i-kulturnaja-diplomatija-sovetskij-stomatolog-v-ssha-i-germanii-1920-h/', 'https://sysblok.ru/ecology/chto-takoe-grazhdanskaja-nauka-i-kak-uchastvovat-v-kontrole-vozduha/', 'https://sysblok.ru/pishu-tebe/skorogo-konca-vojny-ne-predviditsja-russko-japonskaja-vojna-v-otkrytkah/', 'https://sysblok.ru/philology/chekhov-digital-kak-chehov-pisal-pisma-zhene-i-kuda-techet-vremja-v-ego-tekstah/', 'https://sysblok.ru/arts/termenvoks-na-chem-igrali-lenin-i-sheldon-kuper-i-kak-s-jetim-svjazana-mashina-vremeni/', 'https://sysblok.ru/society/chto-ishhut-rossijane-v-poiskovikah-posle-objavlenija-mobilizacii-v-rossii/', 'https://sysblok.ru/test/test-kakoj-vy-geroj-s-otkrytki/', 'https://sysblok.ru/philology/cifrovoj-chehov-kak-ustroeno-semanticheskoe-izdanie-i-gde-iskat-4500-pisem-chehova/', 'https://sysblok.ru/pishu-tebe/podborka-ljubimyh-otkrytok-redakcii/', 'https://sysblok.ru/history/mobilizacija-posle-repressij-kak-bolshoj-terror-povlijal-na-uchastnikov-vov/', 'https://sysblok.ru/arts/ot-zhilyh-domov-do-ipatevskoogo-monastyrja-uchenye-sozdali-jelektronnyj-svod-pamjatnikov-arhitektury-rossii/', 'https://sysblok.ru/knowhow/bolshie-jazykovye-modeli-umejut-rassuzhdat/', 'https://sysblok.ru/pishu-tebe/o-ljubvi-seme-druzjah-i-hobbi-gde-cherpat-sily/', 'https://sysblok.ru/society/kuda-bezhat-esli-bolshe-nelzja-v-rossiju-k-100-letiju-filosofskogo-parohoda/', 'https://sysblok.ru/history/statistika-imperii-inkov-student-deshifroval-uzly-kipu-imi-veli-perepis-naselenija/', 'https://sysblok.ru/history/chto-statisticheskie-otnoshenija-v-leksike-mogut-rasskazat-pro-srednevekovuju-vlast/', 'https://sysblok.ru/society/otmena-russkoj-kultury-chto-pokazyvaet-statistika-cifrovyh-sledov/', 'https://sysblok.ru/interviews/gorod-bez-dannyh-gorod-prizrak-aleksej-novikov-o-tom-kak-big-data-menjaet-predstavlenie-o-planirovke-i-zastrojke/', 'https://sysblok.ru/society/steganografija-ocifrovannoe-iskusstvo-protiv-cenzury/', 'https://sysblok.ru/philology/stilometrija-setevoj-analiz-i-zolotoj-vek-ispanskoj-pojezii-fernando-de-jerrera-kak-most-mezhdu-mirami/', 'https://sysblok.ru/pishu-tebe/bud-umnicej-a-to-priedu-i-naluplju-podborka-otkrytok-k-1-sentjabrja/', 'https://sysblok.ru/society/ignoriruetsja-i-ne-cenitsja-vklad-zhenshhin-v-nauku-cherez-cifry/', 'https://sysblok.ru/ecology/aj-da-naturalist-kakie-jekologicheskie-prilozhenija-pomogut-s-polzoj-provesti-letnie-vyhodnye/', 'https://sysblok.ru/ecology/bjordvotching-chto-jeto-za-ptica-takaja/', 'https://sysblok.ru/news/terabajty-propagandy-gde-lezhit-telearhiv-2022-goda/', 'https://sysblok.ru/digest/sibirskie-pozhary-vzryv-v-bejrute-i-mashiny-na-parkovke-podborka-o-tom-chto-mozhno-uvidet-iz-kosmosa/', 'https://sysblok.ru/history/obsuzhdaja-gumanizm-tematicheskoe-modelirovanie-nemeckojazychnoj-pressy-xix-v/', 'https://sysblok.ru/philology/kto-skryvaetsja-za-psevdonimom-jelena-ferrante-stilometrija-protiv-mistifikacij/', 'https://sysblok.ru/philology/cifrovoe-shekspirovedenie-drama-v-treh-dejstvijah/', 'https://sysblok.ru/digest/togda-i-sejchas-4-stati-o-tom-kak-ne-izmenilsja-mir/', 'https://sysblok.ru/news/ne-navredi-novejshie-sposoby-izuchenija-mira-mertvyh/', 'https://sysblok.ru/test/znatnyj-borshh-golodnaja-tetka-i-muzhik-molodec-kak-menjalis-znachenija-slov-v-russkom-jazyke-na-protjazhenii-xviii-xix-vekov/', 'https://sysblok.ru/digest/sistemnomu-bloku-chetyre-goda-vspominaem-chetyre-glavnyh-posta-poslednih-mesjacev/', 'https://sysblok.ru/digest/podborka-materialov-po-stilometrii/', 'https://sysblok.ru/interviews/k-idee-raznyh-internetov-my-poka-ne-privykli-polina-kolozaridi-ob-issledovanijah-interneta/', 'https://sysblok.ru/nlp/razmecheno-kak-raspoznavat-imenovannye-sushhnosti-v-istoricheskih-dnevnikah/', 'https://sysblok.ru/digital-heritage/sobiraem-fotoletopis-proshlogo/', 'https://sysblok.ru/linguistics/tochka-tochka-zapjataja-kak-menjaetsja-jazyk-v-internet-prostranstve/', 'https://sysblok.ru/news/treker-vashego-nastroenija-mozhet-prodavat-dannye/', 'https://sysblok.ru/test/kakie-cifrovye-tehnologii-stali-instrumentom-gosudarstvennoj-slezhki-test-po-cifrovomu-kontrolju/', 'https://sysblok.ru/news/fabrika-publikacij-stat-uchenym-za-dengi/', 'https://sysblok.ru/news/nejroset-i-chelovek-napisali-knigu/', 'https://sysblok.ru/history/chto-takoe-3d-fotogrammetrija/', 'https://sysblok.ru/news/google-ai-research-predstavila-novuju-jazykovuju-model-palm/', 'https://sysblok.ru/pishu-tebe/cifrovoj-kollekcii-otkrytok-pishu-tebe-1-god/', 'https://sysblok.ru/society/mobilizacija-chto-govorjat-cifrovye-sledy-poiskovogo-sprosa/', 'https://sysblok.ru/history/trevogi-malenkih-ljudej-anglii-xvi-xviii-vekov/', 'https://sysblok.ru/philology/metr-i-smysl-stihotvorenija-svjaz-formy-i-soderzhanija-v-evropejskoj-pojezii/', 'https://sysblok.ru/news/iskusstvennyj-intellekt-vyberet-jeffektivnyj-metod-lechenija-ot-raka-i-koronavirusa/', 'https://sysblok.ru/history/otlichit-svjatopolka-ot-svjatoslava-cifrovaja-genealogija-drevnej-rusi/', 'https://sysblok.ru/society/cifrovoj-totalitarizm-kak-gosudarstvo-kontroliruet-grazhdan-s-pomoshhju-cifrovyh-tehnologij/', 'https://sysblok.ru/news/nejroseti-pomogajut-istorikam-vosstanovit-drevnie-teksty/', 'https://sysblok.ru/news/zapreshhennye-v-rossii-socialnye-seti/', 'https://sysblok.ru/news/dannye-mobilnyh-telefonov-mogut-pomoch-zhivushhim-za-chertoj-bednosti/', 'https://sysblok.ru/news/uchenye-nashli-sposob-predskazyvat-verojatnost-teraktov/', 'https://sysblok.ru/philology/avtor-y-umer-li-a-problemy-ostalis/', 'https://sysblok.ru/news/uchenye-proverili-na-plagiat-teksty-v-rossijskih-nauchnyh-zhurnalah/', 'https://sysblok.ru/news/dannye-budut-zakryty-kak-i-granicy-s-evropoj/', 'https://sysblok.ru/philology/zagovori-chtoby-ja-tebja-uvidel-jevoljucija-dialoga-v-russkoj-literature-xix-veka/', 'https://sysblok.ru/pishu-tebe/kollekcija-otkrytok-evrejskogo-muzeja/', 'https://sysblok.ru/interviews/intervju-s-psihologom-mariej-falikman/', 'https://sysblok.ru/linguistics/reverso-context-servis-dlja-perevoda-slov-s-primerami-ispolzovanija-v-kontekste/', 'https://sysblok.ru/society/voices_from_abroad/', 'https://sysblok.ru/urban/transportnoe-osvoenie-rossii-kak-uvidet-zhizn-za-predelami-osnovnoj-polosy-rasselenija/', 'https://sysblok.ru/arts/netvorking-pikasso-i-uorhola-setevoj-analiz-vystavok-v-moma/', 'https://sysblok.ru/psychology/mozg-melanholika-vidno-li-temperament-na-jejeg/', 'https://sysblok.ru/news/mumifikacija-media-specialisty-po-veb-arhivacii-spasajut-russkojazychnye-smi/', 'https://sysblok.ru/arts/cifrovoj-kulturnyj-kolonializm-v-google-arts-culture/', 'https://sysblok.ru/pishu-tebe/niotkuda-s-ljubovju-v-kollekcii-otkrytok-pishu-tebe-zarabotal-poisk/', 'https://sysblok.ru/society/neizvestnoe-budushhee-kak-ne-sojti-s-uma-v-uslovijah-neopredelennosti/', 'https://sysblok.ru/news/uchenye-spasajut-ukrainskoe-kulturnoe-nasledie-i-setevye-arhivy/', 'https://sysblok.ru/pishu-tebe/pozhar-v-kioto-i-kollekcioner-marok-iz-budushhego-proekt-pishu-tebe-prinjal-uchastie-v-spb-dhweek-2022/', 'https://sysblok.ru/nlp/kak-sdelat-tematicheskoe-modelirovanie/', 'https://sysblok.ru/pishu-tebe/budu-kormit-vshej-i-bloh-podborka-otkrytok-s-frontov/', 'https://sysblok.ru/news/vyshel-interaktivnyj-uchebnik-po-python-dlja-gumanitarnyh-issledovanij/', 'https://sysblok.ru/news/pushkinskij-dom-obnovil-korpus-narrativnoj-prozy-xix-veka/', 'https://sysblok.ru/interviews/kultura-v-cifrovom-site-chto-ostaetsja-za-kadrom/', 'https://sysblok.ru/news/nejrocenzura-generator-stihov-pushkina-otkazalsja-pisat-o-rossii-samovlaste-i-care/', 'https://sysblok.ru/nlp/kak-rabotajut-dialogovye-sistemy-i-chem-oni-otlichajutsja/', 'https://sysblok.ru/society/vydajushhiesja-pisateli-gosdumy-izuchaem-kpi-deputatov-s-pomoshhju-python/', 'https://sysblok.ru/courses/hmuryj-graf-ili-kak-zamenit-uzly-v-gephi-na-jemodzi/', 'https://sysblok.ru/news/pushkinskij-dom-obnovil-korpus-tekstov-detskoj-prozy/', 'https://sysblok.ru/knowhow/kak-plesti-virtualnye-seti-s-pomoshhju-gephi/', 'https://sysblok.ru/permhse/neparadoksalnye-paradoksy-kanona-dalnee-chtenie-franko-moretti/', 'https://sysblok.ru/pishu-tebe/podborka-otkrytok-ko-dnju-studenta/', 'https://sysblok.ru/interviews/my-zastavili-nejronnuju-set-kreativit-kak-algoritmy-modelirujut-himicheskie-reakcii/', 'https://sysblok.ru/cvision/nejroset-ne-potechet-mozhno-li-nakrasitsja-cifrovym-makijazhem/', 'https://sysblok.ru/philology/kak-dzhordzh-vashington-stal-jemo-google-n-grams-v-tiktok-trendah/', 'https://sysblok.ru/education/sovremennyj-urok-matematiki-v-cifrovuju-jepohu/', 'https://sysblok.ru/linguistics/vperedi-sushhij-saharnyj-golod-chto-govorit-o-dnevnikah-1917-goda-analiz-dannyh/', 'https://sysblok.ru/philology/russkie-klassiki-seksisty-ili-vse-taki-net-korpusnyj-analiz-teksta-pushkina/', 'https://sysblok.ru/musicology/idealnaja-formula-depressivnoj-pesni-na-primere-radiohead/', 'https://sysblok.ru/news/rekomendatelnye-sistemy-ploho-rabotajut-dlja-muzyki-andegraund-2/', 'https://sysblok.ru/society/kitajskij-ii-na-strazhe-porjadka-avtomatizacija-cenzury/', 'https://sysblok.ru/philology/tajna-stihov-dekabrista-batenkova-stilometrija-na-strazhe-istiny/', 'https://sysblok.ru/test/russkaja-klassika-glazami-nejroseti-rudalle/', 'https://sysblok.ru/pishu-tebe/kak-pozdravljali-s-rozhdestvom-100-50-i-10-let-nazad/', 'https://sysblok.ru/news/shutochnaja-popytka-pohishhenija-pirozhka/', 'https://sysblok.ru/neuroscience/ajtreking-i-skanpafy-kak-dvizhenija-glaz-vydajut-neuverennogo-chitatelja/', 'https://sysblok.ru/digest/sistemnyj-blok-luchshee-za-2021-god/', 'https://sysblok.ru/philology/programma-dlja-poiska-rifmy-kak-ona-rabotaet-i-kogda-lomaetsja/', 'https://sysblok.ru/interviews/virtualnye-nko-jeto-budushhee-intervju-s-rukovoditelem-krasnojarskogo-memoriala/', 'https://sysblok.ru/society/kak-avtomatizacija-truda-i-gendernye-stereotipy-povlijajut-na-vash-uspeh-osobenno-esli-vy-zhenshhina/', 'https://sysblok.ru/test/znaete-li-vy-kak-informacionnye-tehnologii-povlijali-na-obshhestvenno-politicheskie-processy/', 'https://sysblok.ru/arts/muzejnye-tehnologii-i-roboty-v-iskusstve-rasskazyvaem-pro-art-science/', 'https://sysblok.ru/biologija/mne-nuzhny-tvoja-geolokacija-kamera-i-telefon-dlja-chego-uchenym-vashi-foto-ptic-i-rastenij/', 'https://sysblok.ru/test/naskolko-horosho-vy-znaete-istoriju-cifrovogo-literaturovedenija/', 'https://sysblok.ru/history/dzhon-donn-usnul-kem-byli-anglikanskie-svjashhenniki-v-xvi-xix-vv/', 'https://sysblok.ru/linguistics/otmorozhennyj-iskusstvennyj-intellekt-zima-ne-blizko/', 'https://sysblok.ru/society/kak-ustroeno-obshhenie-iskusstvennogo-intellekta-s-potencialnymi-kandidatami-i-pochemu-nejroset-tozhe-mozhet-diskriminirovat/', 'https://sysblok.ru/interviews/internet-sreda-vlijaet-na-politicheskuju-aktivnost-intervju-s-olgoj-gulevich/', 'https://sysblok.ru/arts/kak-robot-hudozhnik-pishet-portrety-i-pugaet-tamozhennikov/', 'https://sysblok.ru/digitalmemory/kak-sozdat-cifrovoj-proekt-po-publichnoj-istorii-opyt-istorii-nemcev-hmao/', 'https://sysblok.ru/arts/iskusstvoved-v-karmane-dvojniki-na-kartinah-i-interpol/', 'https://sysblok.ru/society/ii-vokrug-nas-ot-raboty-v-kadre-do-raboty-s-kadrom/', 'https://sysblok.ru/linguistics/skazhi-da-po-russki-zachem-nuzhen-pragmatikon/', 'https://sysblok.ru/digest/podborka-o-russkom-yazyke/', 'https://sysblok.ru/news/tupoj-pofigizm-vmesto-preglupogo-indefferentizma-kak-izmenilsja-russkij-jazyk-za-100-let/', 'https://sysblok.ru/digital-heritage/britanskaja-biblioteka-ocifrovala-illjustracii-iz-staryh-knig/', 'https://sysblok.ru/test/nejroset-vs-stihi-ru-otlichite-li-vy-zhivogo-pojeta-ot-jelektronnogo/', 'https://sysblok.ru/psychology/kompjuternoe-modelirovanie-psihicheskih-processov-kak-kompjutery-imitirujut-cheloveka/', 'https://sysblok.ru/urban/narodnye-karty-kontr-strajk-i-majnkraft-rasskazyvaem-pro-virtualnye-vernakuljary/', 'https://sysblok.ru/musicology/uslyshat-smertnost-ot-koronavirusa-kak-rabotaet-sonifikacija-dannyh/', 'https://sysblok.ru/news/virtualnyj-gorod-gogolja-posetili-avatary/', 'https://sysblok.ru/arts/virtualnyj-luk-bolshe-ne-skazka-kak-sozdajut-cifrovuju-odezhdu-i-kuda-ee-nadet/', 'https://sysblok.ru/society/jekologija-tehniki-i-media-pochemu-vash-ajfon-problema-dlja-planety/', 'https://sysblok.ru/arts/kriptoiskusstvo-zachem-pokupat-nft-kartiny/', 'https://sysblok.ru/arts/subektivnye-atlasy-nlo-put-v-nikuda-i-drugaja-jekzotika/', 'https://sysblok.ru/arts/blizhe-k-van-jejku-rekonstrukcija-i-ocifrovka-gentskogo-altarja/', 'https://sysblok.ru/education/v-shkolnyh-uchebnikah-pereschitali-berezki-i-programmistov/', 'https://sysblok.ru/pishu-tebe/chto-videla-zoja-v-peshhere-jekspert-o-dorevoljucionnyh-permskih-otkrytkah/', 'https://sysblok.ru/news/rossijskaja-istoricheskaja-statistika-teper-dostupna-onlajn/', 'https://sysblok.ru/arts/hod-korolevy-i-korona-virtualnaja-vystavka-kostjumov-iz-serialov/', 'https://sysblok.ru/philology/nabokov-i-bulgakov-seksisty-korpusnoe-issledovanie-russkoj-klassiki/', 'https://sysblok.ru/arts/portrety-byki-i-favny-vizualizacija-8000-kartin-pikasso/', 'https://sysblok.ru/education/ot-semejnogo-bjudzheta-do-povedenija-na-doprose-8-onlajn-igr-dlja-grazhdanskogo-obrazovanija/', 'https://sysblok.ru/linguistics/kak-issledovat-japonskie-teksty-s-pomoshhju-voyant-tools/', 'https://sysblok.ru/philology/tolstoj-i-pushkin-seksisty-korpusnoe-issledovanie-russkoj-klassiki/', 'https://sysblok.ru/pishu-tebe/puteshestvie-vo-vremeni-podborka-dorevoljucionnyh-otkrytok-iz-budushhego-v-proshloe/', 'https://sysblok.ru/knowhow/kak-prevratit-tekst-v-genealogicheskoe-drevo-s-pomoshhju-python/', 'https://sysblok.ru/test/chto-statistika-mozhet-skazat-o-vyborah-v-regionah-rossii/', 'https://sysblok.ru/pishu-tebe/ja-sovsem-bez-deneg-o-chem-pisali-v-otkrytkah-120-let-nazad/', 'https://sysblok.ru/history/russkie-v-kitae-100-let-nazad-kontent-analiz-zhizni-jemigrantov-v-harbine/', 'https://sysblok.ru/news/ii-s-datchikom-dvizhenija-prosledit-za-priemom-lekarstv/', 'https://sysblok.ru/arts/cifrovoe-iskusstvo-kak-sovremennye-hudozhniki-sozdajut-shedevry-v-touchdesigner/', 'https://sysblok.ru/test/pochem-golosovanie-i-skolko-samovydvizhencev-prorvalos-test-k-vyboram-v-gosdumu/', 'https://sysblok.ru/news/kompjuternoe-zrenie-uchitsja-vyjavljat-autizm/', 'https://sysblok.ru/society/cifrovaja-ljubov-kak-rabotaet-tinder/', 'https://sysblok.ru/linguistics/kompjuter-uchit-sramotu/', 'https://sysblok.ru/neuroscience/da-chto-oni-ponimajut-kak-mladency-uchatsja-govorit/', 'https://sysblok.ru/news/nejroset-opredeljaet-bogatye-rajony-po-snimkam-iz-kosmosa/', 'https://sysblok.ru/news/odezhda-vse-chuvstvuet/', 'https://sysblok.ru/dataviz/vizualizacija-geodannyh-podtverdila-utechku-personalnoj-informacii/', 'https://sysblok.ru/nlp/kladmen-mudak-analiz-tonalnosti-otzyvov-o-zapreshhennyh-veshhestvah/', 'https://sysblok.ru/pishu-tebe/veseloe-rozhdestvo-dlja-velikoj-knjazhny-kak-pozdravljali-drug-druga-v-staryh-otkrytkah/', 'https://sysblok.ru/pishu-tebe/proekt-pishu-tebe-provel-pervuju-laboratoriju-rasshifrovki-pochtovyh-otkrytok/', 'https://sysblok.ru/musicology/ii-po-klassike-kompjuter-dosochinil-desjatuju-simfoniju-bethovena/', 'https://sysblok.ru/test/opoznaete-li-vy-pushkina-iz-parallelnogo-mira-test-po-vektornoj-literature/', 'https://sysblok.ru/philology/dracor-i-programmable-corpora-korpusa-dlja-cifrovyh-gumanitariev/', 'https://sysblok.ru/pishu-tebe/podborka-letnih-otkrytok-dorevoljucionnogo-i-sovetskogo-vremeni/', 'https://sysblok.ru/history/istorija-pro-ljudej-kak-ustroeny-prosopograficheskie-bazy-dannyh/', 'https://sysblok.ru/news/twitter-uprostil-issledovateljam-dostup-k-dannym/', 'https://sysblok.ru/knowhow/kak-rabotaet-gpt-3-samaja-prodvinutaja-jazykovaja-model/', 'https://sysblok.ru/news/k-zvezdam-cherez-drevnij-sistemnyj-blok/', 'https://sysblok.ru/nlp/unilm-jazykovaja-model-dlja-teh-komu-malo-bert/', 'https://sysblok.ru/news/v-kitae-sozdali-kvantovyj-kompjuter-na-fotonah/', 'https://sysblok.ru/news/kulturnye-zhesty-amerikancy-i-kitajcy-svajpajut-po-raznomu/', 'https://sysblok.ru/otkrytye-dannye/chto-obshhego-mezhdu-perepisju-naselenija-i-zhakkardovoj-tkanju/', 'https://sysblok.ru/society/prestuplenija-i-nakazanija-chto-pokazyvaet-statistika-sudov-i-prigovorov-v-rossii/', 'https://sysblok.ru/interviews/jeto-imitacija-intellekta-konstantin-voroncov-o-nastojashhem-i-budushhem-mashinnogo-obuchenija/', 'https://sysblok.ru/news/hrapjashhie-mini-pigi-pomogut-pobedit-apnoje/', 'https://sysblok.ru/pishu-tebe/kak-pozdravljali-s-dnem-rozhdenija-v-dorevoljucionnye-gody/', 'https://sysblok.ru/test/razlichija-mezhdu-muzhskoj-i-zhenskoj-rechju/', 'https://sysblok.ru/dataviz/mar-ivanna-u-vas-vorotnichok-sine-et-issledovanie-sb-o-zarplatah-uchitelej/', 'https://sysblok.ru/arts/ornamika-cifrovoj-arhiv-uzorov-i-vdohnovenie-dlja-dizajnera/', 'https://sysblok.ru/news/nejroset-prosledit-za-chistotoj-bajkala/', 'https://sysblok.ru/news/bolshie-dannye-protiv-infarkta-i-diabeta/', 'https://sysblok.ru/pishu-tebe/privet-s-fronta-voennye-otkrytki/', 'https://sysblok.ru/news/art-ploshhadka-dlja-programmistov/', 'https://sysblok.ru/news/nejroset-predskazyvaet-novye-himicheskie-reakcii/', 'https://sysblok.ru/news/ljudi-ne-smogut-upravljat-sverhrazumnymi-mashinami/', 'https://sysblok.ru/news/nejroseti-oboshli-cheloveka-v-ponimanii-teksta/', 'https://sysblok.ru/digital-heritage/transkribus-kak-kompjuternoe-zrenie-pomogaet-perevodit-teksty-sirijskih-mistikov/', 'https://sysblok.ru/podcasts/kak-vidjat-mir-bespilotniki-i-pochemu-obuchenie-s-uchitelem-slomano-rasshifrovka-podkasta-s-borisom-jangelem/', 'https://sysblok.ru/knowhow/kak-ustroena-nejroset-bert-ot-google/', 'https://sysblok.ru/news/nejroseti-ozhivili-starye-foto/', 'https://sysblok.ru/society/bezrabotica-otchajanie-i-smert-chto-stoit-za-jepidemiej-bezyshodnosti/', 'https://sysblok.ru/history/informacionno-poiskovaja-sistema-dokumenty-pobedy/', 'https://sysblok.ru/pishu-tebe/o-chem-pisali-deti-v-otkrytkah/', 'https://sysblok.ru/linguistics/nravstvennoe-pravo-i-nemerknushhaja-pravda-kak-rechi-prezidentov-na-9-maja-vlijajut-na-kollektivnuju-pamjat/', 'https://sysblok.ru/news/3d-modelirovanie-razoblachilo-ubijc-andreja-bogoljubskogo/', 'https://sysblok.ru/arts/generativnoe-iskusstvo-ot-kalejdoskopa-do-mashinnogo-obuchenija/', 'https://sysblok.ru/society/gender-harassment-golosovye-pomoshhniki-i-zachem-nam-diversity/', 'https://sysblok.ru/philology/rhymetagger-sozdan-instrument-dlja-avtomaticheskoj-razmetki-rifmy/', 'https://sysblok.ru/news/pravosudie-na-ladoni/', 'https://sysblok.ru/interviews/intervju-s-borisom-orehovym/', 'https://sysblok.ru/arts/golova-v-rame-vr-filmy-po-motivam-izvestnyh-kartin/', 'https://sysblok.ru/urban/dlja-chego-eshhe-nuzhny-maski-karta-zagrjaznenija-vozduha/', 'https://sysblok.ru/news/vzgljad-v-chernyj-jashhik-iskusstvennogo-intellekta/', 'https://sysblok.ru/podcasts/rasshifrovka-podkasta-s-denisom-kirjanovym/', 'https://sysblok.ru/news/stjenford-nauchit-belyh-vorotnichkov-sosushhestvovat-s-nejrosetjami/', 'https://sysblok.ru/neuroscience/jekonomija-i-len-kak-mozg-zastavljaet-nas-oshibatsja/', 'https://sysblok.ru/history/podborka-interaktivnyh-kart-po-istorii/', 'https://sysblok.ru/digital-heritage/poobedat-u-kanta-kaliningradskie-uchenye-vossozdajut-dom-filosofa-v-3d/', 'https://sysblok.ru/arts/iz-za-pandemii-muzej-viktorii-i-alberta-mozhet-ostatsja-bez-teatra-i-performansa/', 'https://sysblok.ru/msu_psychology/vr-v-psihoterapii/', 'https://sysblok.ru/news/vr-dizajner-ozhivil-54-rimskih-imperatora/', 'https://sysblok.ru/philology/fljeshbeki-sny-i-vstroennyj-narrativ-kakim-byvaet-povestvovanie/', 'https://sysblok.ru/test/kakoj-vy-cifrovoj-gumanitarij/', 'https://sysblok.ru/news/uchenye-dokazali-poiskoviki-menjajut-nashu-pamjat-2/', 'https://sysblok.ru/linguistics/v-prostranstve-tekstov-detoksikacija-kommentariev-poddelka-otzyvov-i-nejrocenzura/', 'https://sysblok.ru/news/gibel-gruppy-djatlova-smodelirovali-v-laboratorii-lavin/', 'https://sysblok.ru/news/u-voron-nashli-samosoznanie/', 'https://sysblok.ru/news/rost-jekonomiki-evropy-otrazilsja-v-portretah-xiv-xxi-vekov/', 'https://sysblok.ru/news/kompjuternaja-model-sozdaet-kartiny-po-kitajskim-ieroglifam/', 'https://sysblok.ru/history/carskie-svitki-i-biografija-konfucija-chto-est-v-korpuse-russkih-perevodov-obshhestvenno-politicheskih-sochinenij-xviii-veka/', 'https://sysblok.ru/arts/tkani-onlajn-kak-ocifrovat-polotno-v-6-metrov/', 'https://sysblok.ru/news/algoritm-protiv-kopirajta-kak-zapatentovat-vse-melodii-mira/', 'https://sysblok.ru/philology/okruzhjon-no-ne-slomlen-cifrovoj-paratekst-i-ego-primenenie/', 'https://sysblok.ru/society/chto-ne-tak-s-zhelaniem-sozdat-robota-klona/', 'https://sysblok.ru/digital-heritage/digital-mappa-protiv-google-maps/', 'https://sysblok.ru/news/nejroseti-nauchili-opredeljat-strukturu-belka/', 'https://sysblok.ru/news/nejroset-opredeljaet-dipfejki-po-gubam/', 'https://sysblok.ru/history/staroe-novoe-pochti-300-let-istorii-distanta/', 'https://sysblok.ru/philology/transformacija-jazyka-v-internete-norma-ili-prestuplenie/', 'https://sysblok.ru/society/ot-dannyh-k-ljudjam-chto-takoe-data-zhurnalistika/', 'https://sysblok.ru/digest/kak-rabotajut-nejroseti-podborka-postov-s-poshagovymi-razborami/', 'https://sysblok.ru/neuroscience/upravljaj-mozgom-so-smartfona-uchenye-sdelali-implanty-antidepressanty/', 'https://sysblok.ru/history/ot-razobshhennosti-k-vojne-chto-pokazyvaet-setevoj-analiz-vizantijskih-pisem/', 'https://sysblok.ru/permhse/chto-takoe-legal-tech-i-mozhno-li-avtomatizirovat-jurista/', 'https://sysblok.ru/news/redka-balerina-i-kreslo-avokado-nejroset-nauchilas-risovat-izobrazhenija-na-zakaz/', 'https://sysblok.ru/arts/podnimite-mne-ruku-kak-tehnologii-ozhivljajut-pokojnyh/', 'https://sysblok.ru/knowhow/stilometrija-kak-v-raznoe-vremja-ljudi-iskali-avtorov-tekstov/', 'https://sysblok.ru/podcasts/pochemu-iskusstvennyj-intellekt-vret-i-kak-ego-ego-ot-etogo-otuchit/', 'https://sysblok.ru/society/ne-streljajte-chernyh-robotov-rasizm-smert-i-mashiny/', 'https://sysblok.ru/news/sozdan-pervyj-zhivoj-programmiruemyj-organizm/', 'https://sysblok.ru/cvision/objectnet-dataset-kotoryj-postavil-v-tupik-luchshie-modeli-kompjuternogo-zrenija/', 'https://sysblok.ru/test/srednevekovye_universitety/', 'https://sysblok.ru/philology/po-slovam-ih-uznaete-ih-kak-vychisljali-avtora-beovulfa/', 'https://sysblok.ru/nlp/davaj-pogovorim-kak-rabotaet-chelovechnyj-chat-bot-google/', 'https://sysblok.ru/knowhow/opredeljaem-datu-napisanija-kartiny-onlajn-bez-registracii-i-sms/', 'https://sysblok.ru/nlp/kompjuternaja-lingvistika-v-medicine-ot-spravok-do-covid/', 'https://sysblok.ru/history/cifrovoj-garlem-gis-sistema-po-istorii-samogo-izvestnogo-chernogo-rajona-ssha/', 'https://sysblok.ru/test/matematika-protestov/', 'https://sysblok.ru/nlp/facebook-delaet-socset-dlja-botov/', 'https://sysblok.ru/news/bolshoj-atlas-bolshih-dannyh/', 'https://sysblok.ru/digitalmemory/posty-o-smerti-ocenit-nelzja-ignorirovat/', 'https://sysblok.ru/neuroscience/pazly-i-iskusstvennyj-intellekt-kak-uluchshit-nejroseti-pri-pomoshhi-igr/', 'https://sysblok.ru/philology/opublikovan-otkrytyj-korpus-evropejskih-romanov/', 'https://sysblok.ru/linguistics/egje-dlja-nejrosetej-kak-testirujut-usvoenie-jazyka-mashinami/', 'https://sysblok.ru/society/mif-o-mashine-pravdy-kak-rabotajut-poligraf-i-mrt-na-samom-dele/', 'https://sysblok.ru/podcasts/chto-ne-tak-s-sovremennym-mashinnym-obucheniem/', 'https://sysblok.ru/news/ii-uluchshil-dvizhenija-robotizirovannyh-ruk/', 'https://sysblok.ru/linguistics/toksichnyj-putin-chto-vidno-v-socseti-russkogo-kompromata/', 'https://sysblok.ru/urban/kak-postroit-kartu-vozrastov-zdanij-na-otkrytyh-dannyh-proekt-how-old-is-this-house/', 'https://sysblok.ru/news/logika-aristotelja-vyvodit-ii-na-novyj-uroven/', 'https://sysblok.ru/arts/vozvrashhenie-chetkogo-popugaja-kak-nejroset-restavriruet-starye-sovetskie-multfilmy/', 'https://sysblok.ru/news/pticy-nakonec-uslyshali-drug-druga-v-pandemiju/', 'https://sysblok.ru/podcasts/unknown-ai-5/', 'https://sysblok.ru/neuroscience/issledovateli-mozga-nashli-svjaz-mezhdu-murashkami-i-muzykoj/', 'https://sysblok.ru/news/pamjat-cheloveka-okazalas-izbiratelnoj-na-slova/', 'https://sysblok.ru/arts/sojuzmultfilm-remastered-starye-sovetskie-kartiny-pokazali-v-novom-kachestve/', 'https://sysblok.ru/society/kak-cifrovoj-jetiket-formiruet-komfortnuju-digital-sredu/', 'https://sysblok.ru/digest/luchshie_materialy_2020/', 'https://sysblok.ru/futurology/dostigla-li-svoih-celej-razrabotka-iskusstvennogo-intellekta/', 'https://sysblok.ru/interviews/kak-zvuchat-lichnye-istorii-v-cifrovom-arhive/', 'https://sysblok.ru/podcasts/7595/', 'https://sysblok.ru/history/peloponnesskaja-vojna-i-analiz-dannyh-statisticheskie-modeli-dlja-istorikov/', 'https://sysblok.ru/knowhow/chto-takoe-redakcionnoe-rasstojanie/', 'https://sysblok.ru/podcasts/kak-obuchat-datasaentistov-igraja-v-shljapu-i-zapuskat-kosmicheskie-korabli-budushhego-podkast-nii-s-viktorom-kantorom/', 'https://sysblok.ru/arts/tysjacha-vystavok-na-ladoni-ar-tehnologii-v-muzejah/', 'https://sysblok.ru/news/kazhdaja-oshibka-shag-k-ponimaniju/', 'https://sysblok.ru/permhse/vo-chto-verjat-it-evangelisty/', 'https://sysblok.ru/podcasts/kak-lingvisty-delajut-iskusstvennyj-intellekt-a-kompjuter-reshaet-egje-podkast-nii-s-tatjanoj-shavrinoj/', 'https://sysblok.ru/neuroscience/kak-muzyka-menjaet-nash-mozg/', 'https://sysblok.ru/knowhow/kak-rabotaet-gpt-2-i-v-chem-ego-osobennosti/', 'https://sysblok.ru/urban/nejroset-chitaet-vyveski-na-ulicah-londona/', 'https://sysblok.ru/digital-heritage/kak-shodit-v-jermitazh-onlajn/', 'https://sysblok.ru/podcasts/kak-prijti-k-silnomu-iskusstvennomu-intellektu-pervyj-vypusk-podkasta-nii/', 'https://sysblok.ru/history/ot-verdena-do-hirosimy-ot-gitlera-do-trampa-kak-ustroena-kollektivnaja-pamjat-v-twitter/', 'https://sysblok.ru/news/v-mozge-nashli-kletki-otvechajushhie-za-kodirovanie-opyta/', 'https://sysblok.ru/biologija/vidno-pticu-po-poletu-a-dannye-o-nej-po-baze/', 'https://sysblok.ru/digital-heritage/interaktivnaja-mineralogija-kak-starinnye-risunki-kamnej-stali-cifrovym-proektom/', 'https://sysblok.ru/news/algoritm-nahodit-skrytye-svjazi-mezhdu-kartinami/', 'https://sysblok.ru/knowhow/nejroseti-transformery-iznutri-kak-rabotaet-dekoder/', 'https://sysblok.ru/society/socialnyj-digital-vmesto-nelegalnyh-pomidorov-intervju-s-soosnovatelnicej-it-proekta-dlja-bezhencev-taqadam/', 'https://sysblok.ru/knowhow/data-lake-ili-data-warehouse-kak-rabotaet-sbor-i-hranenie-v-big-data-i-v-chem-otlichie-dvuh-metodov/', 'https://sysblok.ru/interviews/cifrovoj-antropolog-otlichaetsja-ot-data-scientist-a-vnimaniem-k-detaljam-intervju-s-darej-radchenko-kb-strelka/', 'https://sysblok.ru/news/samoupravljaemyj-avtomobil-nauchilsja-ponimat-voditelja/', 'https://sysblok.ru/neuroscience/mozg-v-banke-gde-u-cheloveka-soznanie/', 'https://sysblok.ru/nlp/7250/', 'https://sysblok.ru/society/ne-obdeleny-vnimaniem-kak-it-kompanii-vzaimodejstvujut-s-organami-vlasti/', 'https://sysblok.ru/arts/onlajn-vystavki-cifrovoe-kuratorstvo-i-muzejnye-it-intervju-s-vladimirom-opredelenovym/', 'https://sysblok.ru/arts/kak-kompjutery-chitajut-komiksy/', 'https://sysblok.ru/knowhow/kak-rabotajut-transformery-krutejshie-nejroseti-nashih-dnej/', 'https://sysblok.ru/society/jektogenez-osvobozhdenie-zhenshhin-ot-vynashivanija-rebenka-ili-novaja-problema/', 'https://sysblok.ru/society/roboty-protiv-rabstva/', 'https://sysblok.ru/digitalmemory/iskusstvo-do-i-posle-kak-sozdat-onlajn-vystavku-na-google-arts-culture/', 'https://sysblok.ru/digital-heritage/chto-hranit-krupnejshij-onlajn-arhiv-istoricheskih-dokumentov-ameriki/', 'https://sysblok.ru/news/algoritm-protiv-deepfake/', 'https://sysblok.ru/society/skazhi-net-cifrovye-proekty-o-domashnem-i-seksualnom-nasilii/', 'https://sysblok.ru/futurology/ot-argonavtov-do-randonavtov-ne-sluchajnye-puteshestvija/', 'https://sysblok.ru/society/tri-volshebnye-bukvy-chto-takoe-vpn-i-zachem-ego-ispolzovat/', 'https://sysblok.ru/society/ne-po-golosu-no-po-glazam-algoritm-uznaet-tebja-iz-tysjachi/', 'https://sysblok.ru/society/realnost-ili-igra-pochemu-my-mozhem-byt-v-matrice/', 'https://sysblok.ru/news/izuchenie-inostrannyh-jazykov-uvelichivaet-mozg/', 'https://sysblok.ru/digital-heritage/tei-tekstovyj-instrumentarij-kotoryj-smog/', 'https://sysblok.ru/linguistics/svodesh-2-0-novyj-uroven-razgovorov-pro-akademiju/', 'https://sysblok.ru/metascience/kak-ne-stat-zhertvoj-fejk-njuc-sovety-uchenyh/', 'https://sysblok.ru/digitalmemory/slushanie-jeto-akt-ljubvi-dlja-chego-nuzhen-storycorps/', 'https://sysblok.ru/urban/do-i-posle-vzryva-ocenka-razrushenij-v-bejrute-po-sputnikovym-snimkam/', 'https://sysblok.ru/knowhow/sketch-engine-i-majakovskij-chast-ii-nesovetskij-pojet-revoljucii/', 'https://sysblok.ru/society/kak-pomoch-kamchatke-lajk-sher-repost-geoteg/', 'https://sysblok.ru/society/avtor-ili-avtorka-vlijaet-li-pol-avtora-na-vosprijatie-proizvedenija/', 'https://sysblok.ru/biologija/pochti-robocyp-v-chem-polza-robotov-zhivotnyh/', 'https://sysblok.ru/philology/sketch-engine-i-majakovskij-chast-i-chelovek-do-i-posle-revoljucii/', 'https://sysblok.ru/linguistics/pochemu-alisa-i-siri-raspolagajut-nas-k-otkrovennym-razgovoram/', 'https://sysblok.ru/philology/naskolko-predskazuema-hudozhestvennaja-literatura/', 'https://sysblok.ru/arts/restavracija-kartin-ot-vakuumnyh-stolov-do-mashinnogo-obuchenija/', 'https://sysblok.ru/history/geohronologicheskij-treking-v-istorii/', 'https://sysblok.ru/arts/russkij-360-virtualnyj-muzej-bez-granic/', 'https://sysblok.ru/society/malchiki-programmisty-devochki-baleriny-gendernoe-neravenstvo-v-obrazovanii-i-nauke/', 'https://sysblok.ru/knowhow/kak-nejroset-uznaet-rastenija-i-pochemu-ona-oshibaetsja/', 'https://sysblok.ru/arts/ljudi-zveri-i-antropomorfnye-zhivotnye-v-ispolnenii-nejrosetej/', 'https://sysblok.ru/knowhow/obuchaem-word2vec-praktikum-po-sozdaniju-vektornyh-modelej-jazyka/', 'https://sysblok.ru/urban/zhizn-v-trushhobah-kartografirovanie-bednejshih-rajonov-goroda/', 'https://sysblok.ru/neuroscience/pochemu-nejroset-tak-legko-obmanut/', 'https://sysblok.ru/digitalmemory/ostorozhno-retrosimuljakr-sovetskoe-proshloe-v-mediaproektah-pro-1968-god-i-perestrojku/', 'https://sysblok.ru/linguistics/ok-google-kupi-slona-onlajn-shopping-i-golosovye-pomoshhniki/', 'https://sysblok.ru/biologija/cifrovoj-gerbarij-mgu-novaja-zhizn-istoricheskoj-kollekcii-rastenij/', 'https://sysblok.ru/news/kak-svjazany-nejronnaja-aktivnost-mozga-myshej-i-process-razvoda-suprugov/', 'https://sysblok.ru/arts/oskar-za-skrinshot-chto-takoe-screen-life-i-kak-ego-snimajut/', 'https://sysblok.ru/test/test-tjuringa-dlja-perevodchikov-vychisli-mashinu/', 'https://sysblok.ru/musicology/hello-world-muzykalnyj-albom-ot-iskusstvennogo-intellekta/', 'https://sysblok.ru/history/pravo-na-golos-geografija-immigracionnyh-protestov-v-ssha-v-nachale-novogo-tysjacheletija/', 'https://sysblok.ru/digitalmemory/tinder-1917-goda-i-revoljucija-v-cifre/', 'https://sysblok.ru/musicology/data-majning-bodlera-kak-stihi-zapretnogo-dekadenta-razletelis-po-miru/', 'https://sysblok.ru/musicology/pokazhi-mne-svoj-spotify-i-ja-pokazhu-tebe-kto-ty/', 'https://sysblok.ru/society/pravilnye-slova-kak-privit-detjam-interes-k-nauke/', 'https://sysblok.ru/arts/progulka-po-drevnemu-rimu-v-virtualnoj-realnosti/', 'https://sysblok.ru/society/jemocii-est-a-esli-najdu/', 'https://sysblok.ru/digital-heritage/steret-nelzja-ocifrovat-jepigrafika-otkryvaet-vtoroe-dyhanie/', 'https://sysblok.ru/society/seksizm-lukizm-i-professionalizm-problemy-studencheskoj-ocenki-prepodavatelej/', 'https://sysblok.ru/arts/big-data-modnaja-skazka-o-chelovecheskih-zhiznjah/', 'https://sysblok.ru/otkrytye-dannye/kak-raspredeljajutsja-krupnye-gosudarstvennye-subsidii/', 'https://sysblok.ru/linguistics/zaputat-nelzja-ugadat-kak-nejroseti-generirujut-lozhnye-primanki-dlja-testov/', 'https://sysblok.ru/arts/ozhivshie-kartiny-dali-govorit-s-monoj-lizoj/', 'https://sysblok.ru/society/memy-vs-anekdoty-ili-vyzhivaet-virusnejshij/', 'https://sysblok.ru/arts/zerkalnye-tancy-zachem-nuzhna-biblioteka-dvizhenij/', 'https://sysblok.ru/philology/bjegginsy-kolca-i-saurony-kak-nauchit-kompjuter-ponimat-kto-est-kto/', 'https://sysblok.ru/interviews/nad-propastju-porzhi-intervju-s-tehnoblogerom-vastrikom/', 'https://sysblok.ru/history/kino-igry-youtube-chto-izuchajut-arheologi-mediakultury/', 'https://sysblok.ru/history/kak-vzgljanut-na-migraciju-afroamerikancev-cherez-gis-sistemu/', 'https://sysblok.ru/history/kak-na-domah-pojavilis-nomera-adresa-segodnja-i-300-let-nazad/', 'https://sysblok.ru/history/digital-horeografija-tanec-s-telefonom-na-vytjanutoj-ruke/', 'https://sysblok.ru/history/mnogoslojnyj-stambul-kak-uvidet-jevoljuciju-goroda-cherez-karty/', 'https://sysblok.ru/neuroscience/iskusstvennyj-intellekt-izuchaet-zakony-fiziki/', 'https://sysblok.ru/digital-heritage/kak-rentgen-i-ultrafiolet-raskryli-tajnu-4-kartin-s-odnim-sjuzhetom/', 'https://sysblok.ru/philology/dzhejms-protiv-dzhojsa-o-slozhnosti-v-hudozhestvennoj-literature/', 'https://sysblok.ru/arts/igra-v-igre-kak-teatry-stavjat-spektakli-v-minecraft/', 'https://sysblok.ru/arts/iskusstvo-gologrammy-i-gologrammy-v-iskusstve/', 'https://sysblok.ru/uncategorized/knigi-pro-pitanie-proverka-na-obman/', 'https://sysblok.ru/interviews/cifrovaja-jetnografija-i-djavolskij-znachok-uvedomlenij/', 'https://sysblok.ru/society/mify-o-zashhite-personalnyh-dannyh-kak-ne-nado-prjatatsja-ot-bolshogo-brata/', 'https://sysblok.ru/history/publichnaja-istorija-kak-istoriki-stali-praktikami-i-osvoili-internet/', 'https://sysblok.ru/philology/resursy-dlja-cifrovyh-stihovedov-pojeticheskie-korpusa/', 'https://sysblok.ru/arts/virtualnyj-teatr-vr-spektakli-v-ssha-pozvoljajut-pobyt-otcom-gamleta/', 'https://sysblok.ru/musicology/kak-ustroena-muzykalnaja-baza-znanij-genius/', 'https://sysblok.ru/history/samaja-narcissicheskaja-forma-iskusstva-kak-videoart-svjazan-s-kino-i-perfomansom-i-chem-on-ot-nih-otlichaetsja/', 'https://sysblok.ru/arts/stekljannye-negativy-bludnogo-fotografa-i-drugie-prikljuchenija-russkih-v-amerikanskoj-biblioteke/', 'https://sysblok.ru/society/geografija-dannyh-kakoj-statistikoj-gosudarstva-deljatsja-ohotnee-vsego/', 'https://sysblok.ru/musicology/podelis-naushnikom-svoim-eshhe-raz-o-tom-kak-ustroeny-rekomendacii-spotify/', 'https://sysblok.ru/philology/cifrovaja-filologija-1910-kak-andrej-belyj-vychisljal-otklonenija-jamba/', 'https://sysblok.ru/philology/prostranstvennyj-analiz-tekstovyh-ispravlenij-v-novom-zavete/', 'https://sysblok.ru/digital-heritage/evropejskij-avangard-vozrozhdaetsja-v-cifre/', 'https://sysblok.ru/nlp/morfologija-pamjati-a-a-zaliznjaka-chast-iv/', 'https://sysblok.ru/digital-heritage/chto-ne-skryvaet-kongress-ssha/', 'https://sysblok.ru/digital-heritage/gallica-francuzskaja-biblioteka-budushhego/', 'https://sysblok.ru/nlp/robot-zhurnalistu-drug-pochemu-ne-stoit-bojatsja-algoritmov/', 'https://sysblok.ru/futurology/rodnaja-mama-ne-uznaet-chto-ii-mozhet-sdelat-s-vashim-licom/', 'https://sysblok.ru/nlp/roboty-na-vyborah-kak-algoritmy-pomogajut-zhurnalistam/', 'https://sysblok.ru/visual/ottenki-onlajn-novaja-zhizn-kataloga-cvetov-xix-veka/', 'https://sysblok.ru/society/kiberrevoljucija-ili-miting-na-divane-kak-socseti-vlijajut-na-protestnuju-aktivnost/', 'https://sysblok.ru/arts/altari-srednevekovja-v-tvoem-smartfone/', 'https://sysblok.ru/neuroscience/dajte-ka-podumat-iskusstvennyj-intellekt-pytaetsja-chitat-mysli/', 'https://sysblok.ru/philology/cifrovoj-van-gog-na-grani-vechnosti/', 'https://sysblok.ru/society/jekspress-dizajn-ili-vosstanie-mashin-stanut-li-nejroseti-umnee-nas/', 'https://sysblok.ru/digital-heritage/proekt-gutenberg-ot-tysjachi-knig-do-jelektronnogo-sobranija/', 'https://sysblok.ru/philology/jevoljucija-literatury-mozhet-li-darvin-objasnit-konan-dojla-i-futurizm/', 'https://sysblok.ru/philology/data-science-protiv-fejkov-kak-algoritm-otdeljaet-vydumannye-novosti-ot-pravdy/', 'https://sysblok.ru/history/rabovladelcheskij-tehas-istorija-odnogo-shtata/', 'https://sysblok.ru/philology/lev-tolstoj-onlajn-cifrovye-proekty-o-tvorchestve-i-zhizni-pisatelja/', 'https://sysblok.ru/society/instagram-v-nasledstvo-kak-byt-s-akkauntami-umershih-v-socsetjah/', 'https://sysblok.ru/knowhow/sekrety-pozy-i-lica-kak-rabotajut-face-keypoint-detection-i-pose-estimation/', 'https://sysblok.ru/digital-heritage/barochnyj-interaktiv-chto-vidno-na-rentgenah-skulptur-akkermana/', 'https://sysblok.ru/philology/zhivye-stranicy-vojna-i-mir-v-tvoem-smartfone/', 'https://sysblok.ru/arts/virtualnyj-teatr-obzor-vr-spektaklej-v-evrope/', 'https://sysblok.ru/history/s-miru-po-nitke-feldsheru-zarplata-finansirovanie-zdravoohranenija-v-moskve-v-nachale-xx-veka/', 'https://sysblok.ru/news/iskusstvennyj-intellekt-kachaet-prava/', 'https://sysblok.ru/interviews/esli-by-po-evangeliju-zhili-bezdumnye-roboty-oni-byli-by-odnoglazye-odnorukie-i-odnonogie/', 'https://sysblok.ru/society/tehnologii-budushhego-v-chernom-zerkale/', 'https://sysblok.ru/arts/virtualnyj-teatr-vr-spektakli-v-rossii/', 'https://sysblok.ru/arts/gejmifikacija-muzeev-za-i-protiv/', 'https://sysblok.ru/philology/bajron-dante-i-mark-tven-rasskazyvaem-pro-horoshie-literaturnye-korpusa/', 'https://sysblok.ru/arts/istoricheskie-globusy-v-3d-pokrutit-mozhet-kazhdyj/', 'https://sysblok.ru/society/vychislit-koronavirus-sociologija-socialnyh-setej-i-jepidemii/', 'https://sysblok.ru/arts/russkij-rjep-cherez-tematicheskoe-modelirovanie-o-chem-chitaet-russkogovorjashhaja-hip-hop-scena/', 'https://sysblok.ru/urban/kak-izmerit-gorodskuju-kulturu/', 'https://sysblok.ru/society/diktatura-cifrovogo-obshhestva-kitajskaja-socialnaja-rejtingovaja-sistema/', 'https://sysblok.ru/knowhow/vnimanie-vse-chto-vam-nuzhno-kak-rabotaet-attention-v-nejrosetjah/', 'https://sysblok.ru/urban/gibridnoe-sosedstvo-kak-bitvy-za-tishinu-v-podezde-peremestilis-v-internet/', 'https://sysblok.ru/interviews/my-vytaskivaem-ljudej-iz-nebytija/', 'https://sysblok.ru/society/kollektivnaja-pamjat-v-jepohu-ejo-tehnicheskoj-vosproizvodimosti/', 'https://sysblok.ru/otkrytye-dannye/cifrovye-dannye-po-bioraznoobraziju-kak-my-stali-obladateljami-sokrovishh/', 'https://sysblok.ru/history/i-celogo-mira-malo-kak-otsledit-mirovuju-istoriju-cherez-analiz-i-vizualizaciju-dannyh/', 'https://sysblok.ru/knowhow/mama-myla-lstm-kak-ustroeny-rekurrentnye-nejroseti-s-dolgoj-kratkosrochnoj-pamjatju/', 'https://sysblok.ru/musicology/puteshestvie-zvukov-kak-muzykalnye-teksty-peremeshhajutsja-vo-vremeni-i-prostranstve/', 'https://sysblok.ru/history/atlety-s-televizorom-klassicheskie-obrazy-v-videoarte/', 'https://sysblok.ru/urban/tebe-trotuara-malo-gotovy-li-krupnye-goroda-k-socialnomu-distancirovaniju/', 'https://sysblok.ru/history/respublika-uchjonyh-sozdanie-modeli-obshhestva-rannego-novogo-vremeni/', 'https://sysblok.ru/news/obman-vo-imja-obrazovanija/', 'https://sysblok.ru/arts/selfi-v-jermitazhe-chto-govorit-instagram-ob-auditorii-samogo-populjarnogo-muzeja-rossii/', 'https://sysblok.ru/society/signal-v-budushhee-vash-kot-soobshhaet-o-jadernoj-ugroze/', 'https://sysblok.ru/society/u-vas-stress-bjerrimor/', 'https://sysblok.ru/futurology/embodied-virtual-reality-system/', 'https://sysblok.ru/news/vsemirnyj-muzej-hip-hopa-poluchit-virtualnyh-provodnikov/', 'https://sysblok.ru/interviews/sistemnyj-blok-na-samoizoljacii/', 'https://sysblok.ru/philology/pojasni-za-smajlik-smeh-i-slezy-v-internete/', 'https://sysblok.ru/neuroscience/v-rossijskuju-medicinu-prihodit-ii-chego-zhdat-i-gde-on-pojavitsja-ranshe/', 'https://sysblok.ru/society/virus-ne-projdet/', 'https://sysblok.ru/philology/kak-izmerjajut-jeffekt-vertera/', 'https://sysblok.ru/arts/muzei-nachali-raspoznavat-lica-posetitelej-no-s-jetim-est-problemy/', 'https://sysblok.ru/musicology/muzykalnyj-poiskovik-musipedia-ot-mocarta-do-jeltona-dzhona/', 'https://sysblok.ru/philology/kak-menjalis-pesni-bitlov-i-mozhno-li-vychislit-jemocii-kompjuternymi-metodami/', 'https://sysblok.ru/visual/kak-nejroset-sazhaet-kartoshku-iz-kosmosa/', 'https://sysblok.ru/urban/kak-my-terjaem-prirodnye-resursy-temnoty/', 'https://sysblok.ru/arts/kak-rabotajut-rekomendatelnye-sistemy-i-chto-s-nimi-budet-zavtra/', 'https://sysblok.ru/urban/komu-na-karantine-v-moskve-zhit-horosho/', 'https://sysblok.ru/philology/vsja-klassika-v-odin-klik-kak-vydelit-iz-teksta-sobytija/', 'https://sysblok.ru/arts/utrachennaja-kollekcija-korolja-karla-i/', 'https://sysblok.ru/arts/ajtreking-v-psihologii-iskusstva-vyjasnjaem-chto-i-kak-vlijaet-na-nashe-vosprijatie-velikih-poloten/', 'https://sysblok.ru/arts/muzej-v-korobke/', 'https://sysblok.ru/society/universitety-v-minecraft-a-biblioteki-v-sims-gde-iskat-ljubimye-zavedenija-na-karantine/', 'https://sysblok.ru/society/kartirovanie-kriminala-i-rost-srednevekovyh-gorodov-zachem-istorikam-gisy/', 'https://sysblok.ru/history/neizvestnyj-soldat/', 'https://sysblok.ru/linguistics/sejchas-vyletit-ptichka-chto-vnutri-u-platform-dlja-izuchenija-jazyka/', 'https://sysblok.ru/neuroscience/cifrovoe-okno-v-prirodu/', 'https://sysblok.ru/society/zoom-emu-puhom/', 'https://sysblok.ru/history/kogo-uchili-iezuity/', 'https://sysblok.ru/news/semantika-jemocij-uchenye-objasnili-prirodu-variativnosti-jazyka/', 'https://sysblok.ru/arts/my-sdelaem-vas-schastlivymi-iskusstvennyj-intellekt-otvetit-kak-na-nas-vlijaet-muzyka/', 'https://sysblok.ru/nlp/trudno-byt-botom-kak-sdelat-chatbota-s-pomoshhju-deeppavlov/', 'https://sysblok.ru/musicology/ideja-dlja-karantina-virtualnyj-hor/', 'https://sysblok.ru/arts/cifrovye-aktery-fantastika-i-realnost-k-80-letiju-al-pachino/', 'https://sysblok.ru/society/stali-li-sovremennye-pop-pesni-grustnee-za-poslednie-50-let/', 'https://sysblok.ru/neuroscience/kak-znanie-jazykov-prokachivaet-mozg-5-bonusov-mnogojazychija/', 'https://sysblok.ru/philology/vse-perepleteno-kak-rasputat-socialnuju-set-ravvinskoj-literatury/', 'https://sysblok.ru/urban/gde-govorite-bolejut/', 'https://sysblok.ru/news/v-mozge-nashli-puskovoj-mehanizm-soznanija/', 'https://sysblok.ru/futurology/gps-predskazyvaet-zemletrjasenija-cunami-i-glubinu-snega/', 'https://sysblok.ru/arts/kompjuternyj-analiz-sezanna-chto-obedinjaet-seriju-kupalshhikov/', 'https://sysblok.ru/musicology/kjeti-pjerri-nevinovna-cifrovye-muzykovedy-oprovergajut-plagiat-v-dark-horse/', 'https://sysblok.ru/society/gendernye-stereotipy-ili-realnost-kak-govorjat-muzhchiny-i-zhenshhiny-na-samom-dele/', 'https://sysblok.ru/arts/evropejskoe-kulturnoe-nasledie-onlajn/', 'https://sysblok.ru/news/kak-nejronnye-seti-pomogajut-sovershenstvovat-metody-medicinskoj-vizualizacii/', 'https://sysblok.ru/arts/nejronnye-seti-pridumal-leonardo-da-vinchi/', 'https://sysblok.ru/history/kak-3d-tehnologii-voskresili-strastnoj-monastyr/', 'https://sysblok.ru/arts/umnye-muzei-kak-jeto-rabotaet-i-chto-mozhet-pojti-ne-tak/', 'https://sysblok.ru/neuroscience/jekonomika-vnimanija-kak-mozg-popadaetsja-v-set/', 'https://sysblok.ru/society/igra-v-vojnushku-vyzhivet-li-kto-nibud-posle-nazhatija-krasnoj-knopki/', 'https://sysblok.ru/urban/belkografija-kto-i-zachem-schitaet-belok-v-centralnom-parke/', 'https://sysblok.ru/society/dannye-iz-gostinic-dlja-zhivotnyh-pomogajut-predotvrashhat-samoubijstva/', 'https://sysblok.ru/news/muzyka-nas-svjazala-universalii-v-muzyke-mira/', 'https://sysblok.ru/society/prjamo-kak-v-plague-inc-chto-obedinjaet-igry-i-filmy-pro-jepidemii/', 'https://sysblok.ru/philology/est-li-stil-u-perevodchika-a-esli-najdem/', 'https://sysblok.ru/society/algoritm-podbora-meduslug-okazalsja-rasistom/', 'https://sysblok.ru/biologija/v-les-za-bolshimi-dannymi-kak-vashi-fotki-belok-i-gribov-pomogut-nauke/', 'https://sysblok.ru/philology/iskusstvennyj-intellekt-treniruetsja-na-skazkah/', 'https://sysblok.ru/otkrytye-dannye/dostupnost-raboty-dlja-ljudej-s-invalidnostju-v-rossii-infografika/', 'https://sysblok.ru/news/zombi-protiv-virusa-kak-igry-pomogajut-perezhit-karantin/', 'https://sysblok.ru/nlp/kak-pogovorit-so-100-000-knig-talk-to-books/', 'https://sysblok.ru/nlp/kak-ustroen-shrift-brajlja-i-zachem-ego-raspoznavat/', 'https://sysblok.ru/linguistics/kak-upravljat-mamontom-generiruem-nuzhnye-teksty-s-pomoshhju-modelej-plug-and-play/', 'https://sysblok.ru/neuroscience/mechtajut-li-roboty-o-jelektromyshcah/', 'https://sysblok.ru/nlp/kak-rabotaet-fasttext-i-gde-ee-primenjat/', 'https://sysblok.ru/news/nju-jorkskaja-publichnaja-biblioteka-opublikovala-top-10-samyh-chitaemyh-knig-za-125-let/', 'https://sysblok.ru/linguistics/zhurnalisty-vs-roboty-neravnyj-boj/', 'https://sysblok.ru/nlp/fembot-s-tale-kak-virtualnym-pomoshhnikam-dobitsja-ravenstva-s-ljudmi/', 'https://sysblok.ru/linguistics/kraudsorsing-v-digital-humanities-opyt-latvijskogo-folklornogo-arhiva/', 'https://sysblok.ru/news/mafija-dlja-nejroseti-bot-pobezhdaet-ljudej-v-igre-so-skrytymi-roljami/', 'https://sysblok.ru/arts/filmy-predskazavshie-budushhee/', 'https://sysblok.ru/philology/otstavnoj-kozy-prodjuser-generiruem-nazvanija-knig-dari-doncovoj/', 'https://sysblok.ru/news/stroim-most-vovlechenie-starshego-pokolenija-v-cifrovoe-prostranstvo-s-pomoshhju-kino/', 'https://sysblok.ru/arts/5-dizajn-vdohnovenij-stiva-dzhobsa/', 'https://sysblok.ru/society/eshhe-muzhchinestee-byt-iz-chego-sdelany-pozdravlenija-s-23-fevralja/', 'https://sysblok.ru/research/detektivnaja-istorija-poiska-avtora/', 'https://sysblok.ru/metascience/na-raspute-digital-humanities/', 'https://sysblok.ru/neuroscience/kak-gps-delaet-nas-tupee-i-kak-jetomu-protivostojat/', 'https://sysblok.ru/linguistics/chat-boty-ugrozhajut-otrezat-ljudjam-palcy-my-vse-umrem/', 'https://sysblok.ru/arts/metropoliten-muzej-na-360/', 'https://sysblok.ru/metascience/kak-data-detektiv-razoblachaet-podozritelnye-medicinskie-issledovanija/', 'https://sysblok.ru/digest/5-rossijskih-bibliotek-s-bogatymi-cifrovymi-kollekcijami/', 'https://sysblok.ru/interviews/oblast-v-kotoroj-ja-rabotaju-rozhdaetsja-prjamo-na-glazah/', 'https://sysblok.ru/history/shpionazh-i-slezhka-400-let-nazad-i-pochemu-jeto-vazhno-znat-segodnja/', 'https://sysblok.ru/nlp/korpus-dlja-vseh-kak-ispolzujut-nkrja/', 'https://sysblok.ru/visual/dzhon-snou-vs-holera/', 'https://sysblok.ru/philology/mnogomernoe-slovo-o-polku-igoreve-ot-kukushki-do-alkogolnogo-brendinga/', 'https://sysblok.ru/education/reprezentacija-mifov-v-cifrovoj-galaktike/', 'https://sysblok.ru/philology/shaherezada-robot-rasskazyvajushhij-istorii/', 'https://sysblok.ru/philology/seti-chehova-otkuda-vyros-vishnevyj-sad/', 'https://sysblok.ru/urban/pozvoni-mne-pozvoni-kak-mobilnye-dannye-pomogajut-izuchat-neravenstvo/', 'https://sysblok.ru/promo/vebinar-matematika-dlja-data-science/', 'https://sysblok.ru/linguistics/google-propovednik-gendernye-stereotipy-i-razvitie-ii-intervju-s-razrabotchikom-google-perevodchika/', 'https://sysblok.ru/visual/shest-rukopozhatij-frjensisa-bjekona/', 'https://sysblok.ru/futurology/slepye-zony-gan/', 'https://sysblok.ru/research/nevidimye-kinozvezdy/', 'https://sysblok.ru/society/280-simvolov-trampa-kak-tvitter-stal-oruzhiem-v-politicheskoj-gonke/', 'https://sysblok.ru/linguistics/vavilonskaja-nejroset-dlja-mnogojazychnogo-perevoda/', 'https://sysblok.ru/urban/kak-nakraudsorsit-avtobus/', 'https://sysblok.ru/musicology/mashina-vremeni-dlja-riharda-vagnera/', 'https://sysblok.ru/philology/kod-mastera-i-margarity/', 'https://sysblok.ru/interviews/lica-sistemnogo-bloka/', 'https://sysblok.ru/nlp/novyj-mobilnyj-google-translate-odinokaja-kolbasa-bolshe-ne-uvidit-selderej/', 'https://sysblok.ru/nlp/iskusstvennyj-intellekt-sozdaet-novogodnee-nastroenie-5-prazdnichnyh-proektov/', 'https://sysblok.ru/biologija/grafiki-kotoryh-my-eshhe-ne-videli-kak-biologi-vizualizirujut-dannye/', 'https://sysblok.ru/digest/best-of-blok-luchshie-posty-2019-goda/', 'https://sysblok.ru/philology/kompjuter-nashjol-avtora-pes-molera-spojler-jeto-moler/', 'https://sysblok.ru/courses/kak-delat-tematicheskoe-modelirovanie-bez-boli-i-komandnoj-stroki/', 'https://sysblok.ru/neuroscience/iskusstvennyj-intellekt-pomozhet-podobrat-lekarstvo-ot-depressii/', 'https://sysblok.ru/society/skoro-li-pojavitsja-altron-bitva-za-liderstvo-v-voennom-ii/', 'https://sysblok.ru/history/ocifrovat-francuzskuju-revoljuciju-kollekcija-bodujena/', 'https://sysblok.ru/neuroscience/zrenie-mozg-i-nejroseti/', 'https://sysblok.ru/courses/gde-uchit-python-obzor-onlajn-kursov-ot-sistemnogo-bloka/', 'https://sysblok.ru/philology/nejroset-pomogla-uchenym-razgadat-antichnye-teksty/', 'https://sysblok.ru/nlp/pomedlennee-ja-zapisyvaju-2/', 'https://sysblok.ru/society/kak-skryt-svoi-bolshie-dannye-ne-daj-sozdat-cifrovuju-kopiju-sebja/', 'https://sysblok.ru/society/skazhi-mne-kakoj-u-tebja-indeks-hirsha-i-ja-skazhu-kto-ty/', 'https://sysblok.ru/nlp/ishhem-smysly-kak-sdelat-tematicheskoe-modelirovanie-korpusa-tekstov/', 'https://sysblok.ru/philology/chto-pokazyvajut-26-000-knig-kogda-delo-dohodit-do-izuchenija-jazyka/', 'https://sysblok.ru/nlp/kak-nachat-svoj-put-v-nlp-ne-putat-s-nlp/', 'https://sysblok.ru/society/chernyh-v-tjurmu-zhenshhin-v-sekretarshi-jetika-v-jepohu-iskusstvennogo-intellekta/', 'https://sysblok.ru/arts/kto-i-otkuda-postit-foto-v-tvitter/', 'https://sysblok.ru/news/mashinnoe-obuchenie-pomozhet-podgotovitsja-k-katastrofam/', 'https://sysblok.ru/nlp/kto-jeto-skazal-razbiraetsja-google-ai/', 'https://sysblok.ru/society/roboty-vstupajut-v-gonku-vooruzhenij-voennye-primenenija-ii/', 'https://sysblok.ru/neuroscience/baby-ex-machina-kak-algoritmy-ponimajut-mladencev/', 'https://sysblok.ru/knowhow/razbiraem-nejroseti-po-chastjam-kak-rabotaet-gradientnyj-spusk/', 'https://sysblok.ru/arts/sudit-zhurnal-po-oblozhke-65-let-sovetskoj-fotografii/', 'https://sysblok.ru/society/pornorenesans-kak-seks-industrija-izmenila-nashu-zhizn/', 'https://sysblok.ru/nlp/youtube-na-russkom-zulusskom-i-urdu-kak-testirujut-perevod-interfejsov/', 'https://sysblok.ru/knowhow/kak-nahodit-pohozhie-slova-s-pomoshhju-rasstojanija-levenshtejna/', 'https://sysblok.ru/nlp/razbiraem-po-chastjam-nauchno-populjarnye-resursy/', 'https://sysblok.ru/linguistics/bolshie-dannye-o-jazykah-v-spravochnike-ethnologue/', 'https://sysblok.ru/philology/socseti-russkoj-dramy-chast-ii-revizor-vs-gorodnichij-kto-zhe-glavnyj-geroj/', 'https://sysblok.ru/society/algoritm-mashinnogo-obuchenija-nauchili-iskat-plohuju-edu/', 'https://sysblok.ru/nlp/semanticheskie-seti-kak-predstavit-znachenija-slov-v-vide-grafa/', 'https://sysblok.ru/nlp/akcentuatory-pamjati-a-a-zaliznjaka-chast-iii/', 'https://sysblok.ru/philology/kognitivnaja-stilistika-i-obrazovanie-rechi/', 'https://sysblok.ru/philology/cvetokorrekcii-v-stihah-sergeja-esenina/', 'https://sysblok.ru/history/kak-ja-perestal-bespokoitsja-i-poljubil-sssr-operacija-barbarossa-na-karte-ssha/', 'https://sysblok.ru/nlp/zachem-nuzhna-karta-metafor/', 'https://sysblok.ru/urban/chem-pahnut-goroda/', 'https://sysblok.ru/nlp/nejroset-predatel-algoritm-obuchili-vyjavljat-teksty-poddelki/', 'https://sysblok.ru/society/chem-frejdovskij-banan-otlichaetsja-ot-ogurca-bolshie-dannye-v-psihologii/', 'https://sysblok.ru/nlp/avtorskij-stil-ego-raspoznanie-i-perenos/', 'https://sysblok.ru/philology/razdeljaj-i-opredeljaj-ili-kto-avtor-sna-v-krasnom-tereme/', 'https://sysblok.ru/society/otdaj-rabotu-robotu/', 'https://sysblok.ru/society/ja-my-nkrja-chto-proishodit-s-nacionalnym-korpusom/', 'https://sysblok.ru/philology/socseti-russkoj-dramy-chast-i-osnovy-setevogo-analiza/', 'https://sysblok.ru/nlp/cat-sistemy-i-budushhee-perevoda/', 'https://sysblok.ru/musicology/kompjuternye-jazyki-muzyki-chast-ii/', 'https://sysblok.ru/urban/pusti-pozhit-bolelshhika-chempionat-v-moskve-i-rynok-airbnb/', 'https://sysblok.ru/arts/muzej-ocifrovannyj-kak-vyzhit-v-vek-promyshlennogo-proizvodstva-medianarrativov/', 'https://sysblok.ru/philology/krasota-i-bozhestvennaja-slava-statisticheskij-analiz-korana/', 'https://sysblok.ru/knowhow/nachalo-vsego-virtualnogo-sushhego/', 'https://sysblok.ru/nlp/chat-bot-podbiraet-parfjum/', 'https://sysblok.ru/visual/10-vizualizacij-nuzhnyh-kazhdomu-uchenomu/', 'https://sysblok.ru/biologija/babochki-skanery-i-lnjanka-mutant-kak-ocifrovka-gerbariev-pomogaet-botanikam-po-vsemu-miru/', 'https://sysblok.ru/philology/bity-ili-manuskript-kto-vyzhivet-v-borbe-so-vremenem/', 'https://sysblok.ru/history/ocifrovat-francuzskuju-revoljuciju-parlamentskie-arhivy/', 'https://sysblok.ru/society/znakomyj-pocherk-cifrovye-tehnologii-dlja-juristov/', 'https://sysblok.ru/philology/test-tjuringa-dlja-kiberpojetov/', 'https://sysblok.ru/society/koshki-myshki-s-sistemoj-kak-vlasti-v-gonkonge-ispolzujut-tehnologii-chtoby-najti-protestujushhih-a-protestujushhie-chtoby-sprjatatsja-ot-vlastej/', 'https://sysblok.ru/futurology/ochumelye-ruchki-uchenye-iz-mit-pridumali-umnuju-perchatku/', 'https://sysblok.ru/neuroscience/teper-s-perlamutrovymi-pugovicami-kak-algoritmy-rabotajut-v-modnoj-industrii/', 'https://sysblok.ru/nlp/slovo-o-polku-igoreve-kak-ulika-pamjati-a-a-zaliznjaka-chast-ii/', 'https://sysblok.ru/education/vr-v-obrazovanii-ot-drevnego-egipta-do-vysadki-na-lunu/', 'https://sysblok.ru/education/uchat-v-shkole-chemu/', 'https://sysblok.ru/history/nakanune-vojny-chto-mozhno-uvidet-v-seti-rodstva-monarhov-evropy-1914-goda/', 'https://sysblok.ru/philology/chto-sluchilos-s-samymi-unylymi-stihotvorenijami-xix-veka/', 'https://sysblok.ru/interviews/obedinit-klassicheskih-filologov-i-specialistov-po-cifre/', 'https://sysblok.ru/knowhow/word2vec-pokazhi-mne-svoj-kontekst-i-ja-skazhu-kto-ty/', 'https://sysblok.ru/urban/kak-tehnologii-pomogajut-zhiteljam-menjat-svoi-goroda/', 'https://sysblok.ru/society/porno-s-bolshimi-dannymi/', 'https://sysblok.ru/nlp/nejroset-rasshifrovala-drevnie-nadpisi/', 'https://sysblok.ru/futurology/vsja-nasha-zhizn-internet-a-my-v-njom-veshhi/', 'https://sysblok.ru/urban/sputnik-v-nebe-nejroset-na-zemle/', 'https://sysblok.ru/society/dannye-nas-svjazali-gde-i-kak-primenjajut-statju-20-2-koap-rf/', 'https://sysblok.ru/arts/algorejv-kak-kod-prevrashhaetsja-v-muzykalnyj-performans/', 'https://sysblok.ru/knowhow/kak-provesti-korpusnoe-issledovanie-pomogite/', 'https://sysblok.ru/urban/cibirskie-pozhary-iz-kosmosa/', 'https://sysblok.ru/arts/hudozhniki-druzhat-pochemu-znamenitosti-znamenity/', 'https://sysblok.ru/nlp/translate-battl-mogut-li-onlajn-perevodchiki-peredavat-stil-teksta/', 'https://sysblok.ru/society/ii-grossmejster-v-nelogichnom-realnom-mire/', 'https://sysblok.ru/philology/strannye-jazyki/', 'https://sysblok.ru/nlp/8-glavnyh-proryvov-v-nejrosetevom-nlp/', 'https://sysblok.ru/nlp/smozhet-li-kompjuter-raspoznavat-lozh-ii-protiv-fake-news/', 'https://sysblok.ru/society/iskusstvennyj-intellekt-protiv-grippa/', 'https://sysblok.ru/nlp/chto-takoe-kross-jazykovaja-morfologija-i-zachem-ona-nuzhna/', 'https://sysblok.ru/futurology/o-chem-govorjat-krysy/', 'https://sysblok.ru/nlp/jeto-fiasko-mister-perevodchik/', 'https://sysblok.ru/interviews/pod-zontikom-dh/', 'https://sysblok.ru/musicology/jazyki-muzyki-chast-1/', 'https://sysblok.ru/arts/jepidemija-ii-iskusstva/', 'https://sysblok.ru/urban/druzheljubnye-goroda/', 'https://sysblok.ru/knowhow/kak-ponjat-o-chem-tekst-ne-chitaja-ego/', 'https://sysblok.ru/knowhow/velikij-moguchij-i-ponjatnyj-ili-net/', 'https://sysblok.ru/philology/interfejs-kak-posrednik/', 'https://sysblok.ru/knowhow/kompjuternaja-lingvistika-net-vychislitelnaja/', 'https://sysblok.ru/nlp/nejronnye-seti-v-mashinnom-perevode-status-kvo/', 'https://sysblok.ru/neuroscience/muzykalnyj-orgazm-otkuda-on-beretsja/', 'https://sysblok.ru/philology/ahmatova-geocoded/', 'https://sysblok.ru/knowhow/mozhet-li-mashina-videt-tak-zhe-kak-chelovek/', 'https://sysblok.ru/urban/kartografiruja-vymysel-vesteros-i-jessos/', 'https://sysblok.ru/visual/cifrovaja-istorija-polskih-evreev/', 'https://sysblok.ru/futurology/kak-iskusstvennye-nejrony-pomogajut-upravljat-zhivymi/', 'https://sysblok.ru/nlp/rozovye-slony-i-krasnye-derevja-cveta-v-jazyke-i-v-realnoj-zhizni/', 'https://sysblok.ru/interviews/hochu-sdelat-sci-hub-legalnoj-platformoj/', 'https://sysblok.ru/futurology/sposobny-li-roboty-pochuvstvovat-bol/', 'https://sysblok.ru/knowhow/prokachivaem-gumanitarija-do-programmista-instrukcija/', 'https://sysblok.ru/philology/v-nachale-bylo-slovo-a-v-konce-ego-uzhe-ne-bylo/', 'https://sysblok.ru/society/svobodu-golunovu/', 'https://sysblok.ru/nlp/mashinnyj-perevod-stanovitsja-sinhronnym/', 'https://sysblok.ru/nlp/u-vas-vsja-spina-belaja-kak-iskusstvennyj-intellekt-uchitsja-shutit/', 'https://sysblok.ru/society/zhenshhiny-i-vlast/', 'https://sysblok.ru/knowhow/kak-posmotret-na-mir-glazami-nejrosetej/', 'https://sysblok.ru/knowhow/kak-rabotajut-filtry-v-instagrame/', 'https://sysblok.ru/society/dialogi-v-gollivudskih-filmah-geroi-protiv-geroin/', 'https://sysblok.ru/nlp/fasolina-ili-jajco-s-chem-sravnivajut-razmery-veshhej/', 'https://sysblok.ru/urban/i-na-tvoej-vysoko-integrirovannoj-ulice-budet-prazdnik/', 'https://sysblok.ru/knowhow/kak-rabotaet-statisticheskij-perevod-po-frazam/', 'https://sysblok.ru/society/ethnography-in-the-digital-internet-era-2/', 'https://sysblok.ru/futurology/minuta-pomoshhi-kak-menjaetsja-medicina-kitaja/', 'https://sysblok.ru/interviews/manovich/', 'https://sysblok.ru/visual/igra-prestolov-grand-final/', 'https://sysblok.ru/society/ethnography-in-the-digital-internet-era-1/', 'https://sysblok.ru/neuroscience/sojuz-zhivogo-i-jelektronnogo-mozga/', 'https://sysblok.ru/arts/kak-ocifrovat-azulezhu/', 'https://sysblok.ru/society/kak-iskusstvennyj-intellekt-menjaet-nauku/', 'https://sysblok.ru/nlp/on-skazal-ona-skazala-rassmotrenie-gendera-v-nejronnom-mashinnom-perevode/', 'https://sysblok.ru/arts/iskusstvennyj-intellekt-risuet-karikatury/', 'https://sysblok.ru/nlp/chto-ne-tak-s-mashinnym-perevodom/', 'https://sysblok.ru/visual/o-chem-govorjat-geroi-filmov-ujesa-andersona/', 'https://sysblok.ru/nlp/kak-mashinnyj-perevod-ocenivaet-mashina/', 'https://sysblok.ru/nlp/kogda-vandaly-ne-vandaly/', 'https://sysblok.ru/visual/kto-est-kto-vo-vselennoj-marvel/', 'https://sysblok.ru/philology/gendernye-trudnosti-anglijskoj-literatury/', 'https://sysblok.ru/philology/puteshestvie-vo-vremeni-s-rentgenom-i-nejrosetjami/', 'https://sysblok.ru/urban/cifrovaja-shkatulka-podzemnyh-sokrovishh/', 'https://sysblok.ru/society/poprivetstvuem-voldemorting-glavnejshij-anti-poisk/', 'https://sysblok.ru/courses/obkachka-sajtov-svoimi-rukami-razbiraemsja-s-html/', 'https://sysblok.ru/society/sgorevshij-notr-dam-spaset-kompjuternaja-igra/', 'https://sysblok.ru/philology/100-let-fantastiki-v-cifrah/', 'https://sysblok.ru/musicology/ocifrovat-noty-i-ne-umeret/', 'https://sysblok.ru/visual/kosmicheskij-data-storitelling/', 'https://sysblok.ru/futurology/universalnye-otpechatki-dlja-vzloma-smartfonov/', 'https://sysblok.ru/education/kak-annotacija-tekstov-svjazana-s-shahmatami/', 'https://sysblok.ru/interviews/cifra-na-sluzhbe-u-filologa/', 'https://sysblok.ru/knowhow/jempatichnyj-chat-bot/', 'https://sysblok.ru/visual/puteshestvie-s-bratstvom-kolca/', 'https://sysblok.ru/courses/1000-druzej-pavla-durova-kak-vykachivat-dannye-vkontakte/', 'https://sysblok.ru/arts/tehnologii-v-kino-kak-rabotajut-specjeffekty/', 'https://sysblok.ru/knowhow/iz-pikselej-v-bukvy-kak-rabotaet-raspoznavanie-teksta/', 'https://sysblok.ru/society/zachem-nuzhny-gumanitarii-v-jepohu-mashinnogo-obuchenija/', 'https://sysblok.ru/society/roboty-simpatjazhki-vtirajutsja-v-doverie/', 'https://sysblok.ru/visual/urban-layers-gorodskie-sloi-manhjettena/', 'https://sysblok.ru/neuroscience/kak-lajki-vlijajut-na-vash-mozg/', 'https://sysblok.ru/nlp/chto-v-smajlike-tebe-moem/', 'https://sysblok.ru/nlp/mashinnyj-perevod-kak-jeto-rabotaet/', 'https://sysblok.ru/urban/odin-peterburg-s-soboj-chto-mogut-sdelat-tehnologii-ar-dlja-gorodov/', 'https://sysblok.ru/neuroscience/govorjashhij-mozg/', 'https://sysblok.ru/society/smejtes-i-detej-rozhajte-iz-chego-sdelany-pozdravlenija-s-8-marta/', 'https://sysblok.ru/knowhow/chernyj-jashhik-nejrosetej-priotkrylsja/', 'https://sysblok.ru/nlp/mne-tolko-sprosit-lingvistika-i-nbsp-bolshie-dannye-obedinjajutsja-dlja-pomoshhi-vracham/', 'https://sysblok.ru/arts/specjeffekty-na-minimalkah/', 'https://sysblok.ru/education/pomedlennee-ja-zapisyvaju/', 'https://sysblok.ru/urban/strah-i-schaste-v-londone-geografija-jemocij/', 'https://sysblok.ru/courses/corpus-iz-tweetov-svoimi-rukami/', 'https://sysblok.ru/nlp/kak-gejmery-drevneegipetskoe-pismo-rasshifrovyvali/', 'https://sysblok.ru/visual/muzykalnaja-planeta-radiooooo/', 'https://sysblok.ru/neuroscience/na-grani-sryva-chem-opasen-supermarket/', 'https://sysblok.ru/visual/ozhivshie-kartiny-kloda-mone/', 'https://sysblok.ru/philology/kak-lingvistika-stala-blizkoj-podrugoj-matematiki-i-informatiki/', 'https://sysblok.ru/visual/novyj-mertvyj-horoshij-vizualizacija-tekstov-grazhdanskoj-oborony/', 'https://sysblok.ru/philology/pushkin-terminator-i-zvezdolet/', 'https://sysblok.ru/history/vozrozhdenie-drevnego-rima-v-3d/', 'https://sysblok.ru/visual/karta-puteshestvij-pushkina/', 'https://sysblok.ru/knowhow/poleznye-resursy-dlja-digital-gumanitariev-chast-i-dokumenty-i-slajdy/', 'https://sysblok.ru/visual/gorodskie-ogni-kak-nejrony/', 'https://sysblok.ru/futurology/ne-obizhaj-robota-kak-ostatsja-chelovekom-v-mire-techno-sapiens/', 'https://sysblok.ru/urban/gde-nahoditsja-mehovoj-vospitatelnyj-kivi/', 'https://sysblok.ru/futurology/spasenie-utopajushhih-uchenyh/', 'https://sysblok.ru/visual/iliada-krovavoe-proizvedenie/', 'https://sysblok.ru/musicology/noty-v-cifru-kak-muzykovedy-sobirajut-dannye/', 'https://sysblok.ru/arts/nejroset-i-vedma-vinni-algoritmy-dobralis-do-detskih-knizhek/', 'https://sysblok.ru/visual/muzyka-prosto-kosmos/', 'https://sysblok.ru/nlp/berestjanye-gramoty-ot-raskopa-do-kompjutera-pamjati-a-a-zaliznjaka-chast-i/', 'https://sysblok.ru/musicology/nichego-svjatogo-matematiki-otdelili-makkartni-ot-lennona/', 'https://sysblok.ru/visual/smert-u-shekspira/', 'https://sysblok.ru/philology/zhutko-gromko-zapredelno-tiho-zvuki-v-romanah/', 'https://sysblok.ru/visual/najdi-svoj-cvet-v-istorii/', 'https://sysblok.ru/futurology/kompjuteru-zakon-ne-pisan-poka/', 'https://sysblok.ru/urban/banditskij-london-interaktivnaja-karta/', 'https://sysblok.ru/knowhow/vtoroe-pokolenie-govorjashhih-mashin/', 'https://sysblok.ru/arts/reprodukcii-mirovyh-shedevrov-ot-ii/', 'https://sysblok.ru/visual/utomitelnaja-karta-solnechnoj-sistemy/', 'https://sysblok.ru/nlp/ne-jellochka-ljudoedka-rjepery-s-samym-bogatym-slovarnym-zapasom/', 'https://sysblok.ru/neuroscience/krokodily-melomany/', 'https://sysblok.ru/visual/5-luchshih-novogodnih-infografik/', 'https://sysblok.ru/knowhow/chto-takoe-geodannye-chast-iii/', 'https://sysblok.ru/visual/dognat-i-peregnat-sovetskaja-infografika-kak-ona-est/', 'https://sysblok.ru/arts/rembrandt-k-uspehu-shel-ne-fartanulo/', 'https://sysblok.ru/knowhow/chto-takoe-geodannye-chast-ii/', 'https://sysblok.ru/visual/data-storitelling-dannye-govorjat-za-sebja/', 'https://sysblok.ru/society/ii-seksist-i-rasist/', 'https://sysblok.ru/musicology/kak-nejroset-pishet-pesni/', 'https://sysblok.ru/futurology/kak-stat-piratom-ne-skachivaja-film-s-rutrekera/', 'https://sysblok.ru/visual/nelegkij-put-armii-napoleona-v-rossii/', 'https://sysblok.ru/nlp/ne-takie-uzh-i-liriki-kompjuternye-tehnologii-dlja-gumanitariev/', 'https://sysblok.ru/philology/personalnyj-skleroznik-ot-alboma-xvii-veka-do-cifrovyh-tetradej/', 'https://sysblok.ru/visual/pora-na-kladbishhe-smert-i-statistika/', 'https://sysblok.ru/nlp/ne-bezdushnaya-mashina/', 'https://sysblok.ru/knowhow/kak-rabotaet-neuroset/', 'https://sysblok.ru/courses/reguljarnye-vyrazhenija-chast-3/', 'https://sysblok.ru/arts/isskustvenniy-intellekt-smotrit-seriali/', 'https://sysblok.ru/knowhow/chto-takoe-geodannye-chast-i/', 'https://sysblok.ru/visual/versus-antichnyh-filosofov-kto-kogo-hejtil-kto-komu-kidal-respekt/', 'https://sysblok.ru/futurology/bolshoj-brat-uznaet-po-pohodke/', 'https://sysblok.ru/society/budushhee-mediciny-v-rukah-u-iskusstvennogo-intellekta/', 'https://sysblok.ru/knowhow/zemlja-emu-puhovik-kak-rabotaet-t9/', 'https://sysblok.ru/nlp/rozhdenie-govoryaschih-mashin/', 'https://sysblok.ru/visual/peshkom-s-apostolom-pavlom/', 'https://sysblok.ru/education/ne-stydno-i-veselo-chem-horoshi-jazykovye-boty/', 'https://sysblok.ru/arts/nejroset-vernula-hanu-solo-lico/', 'https://sysblok.ru/neuroscience/haknut-mozg-10-nejrotehnologij-dlja-apgrejda-golovy/', 'https://sysblok.ru/society/nejroset-kop-raskusit-vseh/', 'https://sysblok.ru/futurology/kishechnye-igry/', 'https://sysblok.ru/knowhow/nejroseti-i-smert-avtora/', 'https://sysblok.ru/history/bolshie-dannye-bolshogo-terrora/', 'https://sysblok.ru/knowhow/mozg-protiv-kompjutera/', 'https://sysblok.ru/visual/vizualizacija-dannyh-spasaet-zhizni/', 'https://sysblok.ru/futurology/nejrovoskreshenie-velikogo-bitnika/', 'https://sysblok.ru/society/kratkaja-istorija-iskusstvennogo-intellekta-chast-ii/', 'https://sysblok.ru/society/kak-vpechatlit-robota-sobesedovanie-s-iskusstvennym-intellektom/', 'https://sysblok.ru/knowhow/multinarrativ-programmiruemaja-istorija/', 'https://sysblok.ru/musicology/nagugli-melodiju-poiskovik-dlja-muzykantov/', 'https://sysblok.ru/society/kratkaja-istorija-iskusstvennogo-intellekta-chast-i/', 'https://sysblok.ru/visual/nejron-vdohnovenija/', 'https://sysblok.ru/arts/spasitelnyj-luch-dlja-poehavshej-kryshi/', 'https://sysblok.ru/nlp/zheleznye-argumenty-kak-ustroen-project-debator/', 'https://sysblok.ru/nlp/vo-chto-prevrashhaetsja-zhizn-bez-ljubvi/', 'https://sysblok.ru/nlp/nejroset-nauchilas-diagnostirovat-depressiju/', 'https://sysblok.ru/society/robot-prikinulsja-uchitelem-nikto-ne-zametil/', 'https://sysblok.ru/society/bolshoj-brat-na-milliard/', 'https://sysblok.ru/arts/koshmarnye-sny-nejrosetej/', 'https://sysblok.ru/education/poshhady-ne-budet-uchitelej-menjajut-na-robotov/', 'https://sysblok.ru/courses/reguljarnye-vyrazhenija-chast-2/', 'https://sysblok.ru/musicology/pixelplayer-nejroset-nauchili-raschlenjat-muzyku/', 'https://sysblok.ru/futurology/nejroset-vidit-ljudej-skvoz-steny/', 'https://sysblok.ru/urban/chem-goljanovo-pohozhe-na-manhjetten/', 'https://sysblok.ru/neuroscience/polittehnologi-nauchilis-pronikat-v-mozg/', 'https://sysblok.ru/arts/iskusstvennyj-intellekt-prevrashhaet-svist-v-mocarta/', 'https://sysblok.ru/arts/iskusstvennyj-intellekt-prevrashhaet-svist-v-mocarta/', 'https://sysblok.ru/futurology/podnimite-mne-veki/', 'https://sysblok.ru/visual/battl-s-rimskimi-imperatorami/', 'https://sysblok.ru/education/defenestracija-ne-ne-slyshal/', 'https://sysblok.ru/musicology/cifrovoe-muzykovedenie-v-odin-klik/', 'https://sysblok.ru/arts/za-granju-razumnogo-nejroset-pridumala-kino/', 'https://sysblok.ru/courses/regulyarnie-virazhenia-chast-1/', 'https://sysblok.ru/nlp/po-glazam-vizhu-kak-ocenit-znanie-anglijskogo-s-pomoshhju-ajtrekinga/', 'https://sysblok.ru/nlp/lampochka-svetit-a-lapochka-net-kak-kompjutery-vychisljajut-znachenija-slov/', 'https://sysblok.ru/nlp/prazdnik-ili-smert-drama-v-seti/', 'https://sysblok.ru/musicology/vzlamyvaja-kod-shljagera-matematika-letnih-hitov/', 'https://sysblok.ru/futurology/zharim-stejk-onlajn-s-uchenymi-iz-mit/', 'https://sysblok.ru/futurology/zombojashhik-opasen-dlja-vashego-iskusstvennogo-intellekta/', 'https://sysblok.ru/musicology/plejlist-darvina-kak-shum-jevoljucioniroval-v-muzyku/', 'https://sysblok.ru/musicology/music-encoding-initiative-nastojashhee-i-budushhee-cifrovogo-muzykovedenija/', 'https://sysblok.ru/nlp/mnogabukaf-niasilil-kak-algoritmy-oc/', 'https://sysblok.ru/visual/nejroset-skrestila-dinozavrov-s-cvetami/', 'https://sysblok.ru/nlp/ubeditelnee-cicerona-iskusstvenny/', 'https://sysblok.ru/philology/zhit-i-umeret-v-parizhe-300-let-russkoj/', 'https://sysblok.ru/nlp/potroshim-pisma-dzheka-potroshitelja/', 'https://sysblok.ru/futurology/tvoj-mertvyj-dedushka-online/', 'https://sysblok.ru/society/kak-sdelat-urodskoe-selfi-otvechaet-n/', 'https://sysblok.ru/urban/druzhba-na-rasstojanii-kak-jeto-ustroeno/', 'https://sysblok.ru/urban/geoinformacionnyj-analiz-pojetichesko/', 'https://sysblok.ru/nlp/smertelnyj-tvit/', 'https://sysblok.ru/history/gosudarevy-potehi-i-chjulany-s-vinom-u/', 'https://sysblok.ru/visual/noch-pered-dedlajnom-ili-ramadan-zhizn/', 'https://sysblok.ru/urban/iz-londona-v-rim-za-paru-tysjach-let-do-skyscan/', 'https://sysblok.ru/knowhow/chto-takoe-n-grammy-i-s-chem-ih-edjat/', 'https://sysblok.ru/society/nejroset-raspoznala-rody-saksofoni/', 'https://sysblok.ru/visual/akinfeev-spasibo-ne-veritsja/', 'https://sysblok.ru/philology/smert-v-seti/']\n"
          ]
        }
      ]
    },
    {
      "cell_type": "markdown",
      "source": [
        "### шаг 3\n",
        "\n",
        "работаем с 1 новостью:\n",
        "\n",
        "нас интересует название, автор, дата публикации, текст (дополнительно можно спарсить тематические категории)"
      ],
      "metadata": {
        "id": "tMfZa9Y-Bbtn"
      }
    },
    {
      "cell_type": "code",
      "source": [
        "# для парсинга даты: извлеките текст из тега time\n",
        "url0 = all_links[0]\n",
        "news0 = rq.get(url0)\n",
        "soup0 = BeautifulSoup(news0.text)\n",
        "time0 = soup0.find('time').text\n",
        "print(time0)"
      ],
      "metadata": {
        "id": "8bFB7G4uB6b3",
        "colab": {
          "base_uri": "https://localhost:8080/"
        },
        "outputId": "e2499495-e12c-4337-98ee-e19a91d19563"
      },
      "execution_count": 136,
      "outputs": [
        {
          "output_type": "stream",
          "name": "stdout",
          "text": [
            "22.12.2023\n"
          ]
        }
      ]
    },
    {
      "cell_type": "code",
      "source": [
        "# для парсинга заголовка: извлеките текст из тега h1\n",
        "title0 = soup0.find('h1').text\n",
        "print(title0)"
      ],
      "metadata": {
        "id": "sWIRCUdMCAOx",
        "colab": {
          "base_uri": "https://localhost:8080/"
        },
        "outputId": "6e57b484-9f63-4c94-b6e8-e85833d8cf7b"
      },
      "execution_count": 137,
      "outputs": [
        {
          "output_type": "stream",
          "name": "stdout",
          "text": [
            "Как непредвзято изучать организации? Интервью с Лёней Юлдашевым\n"
          ]
        }
      ]
    },
    {
      "cell_type": "code",
      "source": [
        "# для парсинга текста: соберите все тексты из тега p и соедините в строку\n",
        "text0 = ''\n",
        "for i in soup0.find_all('p'):\n",
        "  text0 += i.text.strip()\n",
        "print(text0)"
      ],
      "metadata": {
        "id": "ZbJx5m49CCrd",
        "colab": {
          "base_uri": "https://localhost:8080/"
        },
        "outputId": "231ebf8e-aecd-4084-ff46-6a9f1af6a0c0"
      },
      "execution_count": 146,
      "outputs": [
        {
          "output_type": "stream",
          "name": "stdout",
          "text": [
            "Разговор о связи социологии организаций и Digital Humanities, обоснованной теории и возможности соединить прикладные и академические исследования.Леонид Юлдашев, координатор клуба любителей интернета и общества,  преподаватель курса «Социальная история инфраструктур» в магистратуре по Digital Humanities в ИТМОИзначально курс должен был рассказывать об инфраструктурах: это, например, дороги, трубопроводы, электричество, интернет. При этом  основная практика студентов была запланирована в стенах культурных институций, поэтому возникла идея курса о том, как мы можем мыслить организации.В качестве объектов были взяты музеи и библиотеки. При всех различиях у них есть одинаковая потребность – определять путь своего посетителя. Анализ музеев строился на социологии классификации, в том числе на методах Мэри Дуглас. Мы смотрели на музеи как на организации со своими решетками различений, со своими методами кодирования мира.Финальное задание курса — отправиться в музей в Петербурге и сделать исследование методом обоснованной теории. Это значит, что обобщения должны быть не взяты из теоретического словаря, а интуитивно выведены из наблюдений с помощью последовательности ряда микро-интерпретаций.Оптика обоснованной теории позволяет применить качественный подход к аналитике посещения музея. Проходя музей вместе с посетителями, как бы отслеживая каждый шаг, мы обнаруживаем те места, где у них появляются затруднения. Тем же методом мы можем отследить, как институция классифицирует своего посетителя.Мой друг и коллега, социолог Дмитрий Серебренников рассказывает в своей статье, как разные московские ведомства договариваются о месте размещения камер наружного видеонаблюдения. Карта камер отражает области, нуждающиеся в наблюдении, по представлениям этих ведомств. Здесь мы можем увидеть, как соединяются социология классификаций и социальные исследования инфраструктур, что и было воплощено на курсе.Опишу пример из книги. Вы приходите в ресторан и видите, что в зале, кроме официантов и гостей, от столика к столику ходит женщина в красном платье и иногда общается с посетителями. И она — непонятно кто. Она не укладывается ни в одну из двух этих ожидаемых категорий. Вы наблюдаете за её действиями и непредвзято классифицируете их.Женщина в красном платье также переговаривается с официантами, входит в служебные помещения и не отдыхает за столиком. Этим её действиям свойственна целенаправленность и регулярность.В итоге мы фиксируем, что роль этой женщины — координация команды ресторана. На этом примере видно, что классификация людей и их действий происходит всегда.Экономисты любят книгу «Робинзон Крузо» Даниэля Дэфо, потому что Дэфо в ней показывает, что возможна экономика без общественных отношений. Мне кажется, социологи тоже должны любить эту книжку: в ней общественные феномены становятся возможными, даже когда человек совсем один на клочке земли.Не может быть такого, что в общественном месте ничего не происходит. Может быть такое, что ты ничего не видишь. Тем не менее, все студенты что-то увидели.В первую очередь меня интересовало, как студент работает с тем, что он увидел: интерпретирует свой опыт, помещает каждое отдельное наблюдение в контекст других наблюдений. Объектов много: обои, паркет и ковры, одежда библиотекаря, справочные материалы на стенах. И кто заморачивался и обращал внимание на все эти мелочи, тот реализовал метод обоснованной теории.Подход высококачественной этнографии — внимательный и въедливый. Например, мы почувствовали себя клиентами в библиотеке. Но не потому, что все библиотекари носят одежду синего цвета. Это чувство клиентского сервиса возникло на основании совокупности маленьких взаимосвязанных наблюдений. Это можно заметить, даже если ты никогда не бывал в этой институции.Можно сказать, что есть риск, что студент просто выдумал свои наблюдения. Тем не менее, студенту, выдумавшему столько мелочей, можно ставить пятёрку, потому что он как опытный полевой интервьюер, который знает наперёд ответы респондентов. К тому же, в рамках учебного задания вопрос о исторической достоверности не столь важен.Прикладное — значит, соответствующее потребностям заказчика. Совместить прикладную полезность и академическую эмпирику в исследовании можно, если собирать для заказчика данные с прицелом на последующую обработку для научной статьи.Как донести до заказчика смысл академического исследования — это проблема перевода с языка академии на язык бизнеса.Это, мне кажется, вопрос об адекватности исследовательской проблемы. Представим себе исследование, в котором есть одна только процедура: мы спрашиваем людей, как они себя чувствуют сегодня. И если плачущий человек говорит нам, что у него всё в порядке, мы упускаем таким образом контекст.Проблема такого исследования заключается в том, что был задан неадекватный исследовательский вопрос. Если бы мы наблюдали связь между тем, как человек выглядит, и тем, что он отвечает, то была бы другая картина. Мы бы записали в графу «как выглядит»: плачет, а в графу, «как отвечает»: «всё нормально».Те, которые соотносятся с:Адекватность теоретической рамки можно оценить, используя, например, инструментарий DH или STS, социологии науки и технологии. Адекватность исследовательскому полю — это вопросы, занимающие наших коллег, то, что вообще в повестке.Более, чем теоретическая рамка, важна адекватность данным. В социологии, так как она постарше DH, зафиксированы процедуры выбора метода для исследования в соответствии с вопросом и данными.В соцсетях работа будет строиться примерно так: если в корпусе мы собрали 100% постов по определённому тэгу, и только каждый пятый автор этих постов дал нам интервью, значит, мы должны построить выборку для интервью по статистическим законам, чтобы показать, в какой степени наши данные репрезентативны.Быть адекватным исследовательской области — это следовать её когнитивному стилю. Если ты уже выбрал дисциплину, то ты уже отсёк большинство методов.В магистерской ВКР это особенно важно. Если мы успеем хорошо понять, как проводятся исследования в STS, то это покажет, что мы усвоили материал, данный в университете. С другой стороны, будет достойный публикации материал, потому что работа будет использовать терминологию нашего исследовательского поля.Эксперименты с методами — это отдельная проблемная задача для сильных духом. В магистерской работе я рекомендую освоить одну область. Это само по себе трудоемкое и времязатратное занятие. Студенты, как я знаю, любят придумывать разного рода эксперименты — осуществить потом это бывает трудно.Мэри Д. Как мыслят институты //Социология власти. – 2012. – №. 4-5. – С. 188-217.Серебренников Д. Е. Инфраструктура как камера-обскура социальных классификаций: системы городского видеонаблюдения в малых городах //Мониторинг общественного мнения: экономические и социальные перемены. – 2023. – №. 3.Страусс А., Корбин Д. Основы качественного исследования. – 2007.Продолжаем рассказывать про основные понятия в области машинного обучения и искусственного интеллекта. сегодня на очереди классификация.Как Галилео Галилей защищал своё первенство в научных открытиях с помощью криптографии? Почему для защиты от пиратского просмотра телекомпании намеренно искажали телевизионный сигнал? Новый пост Музея криптографии в «Системном Блоке» о том, как шифрование использовалось для защиты авторских прав.Получайте наши подборки первыми\n",
            "\n",
            " Согласен с  политикой конфиденциальности© 2018–2023 Системный Блокъ\n"
          ]
        }
      ]
    },
    {
      "cell_type": "code",
      "source": [
        "for i in soup0.find_all('a', {'class': 'creator url fn'}, {'rel': 'author'}):"
      ],
      "metadata": {
        "id": "esC_-LGda-QC"
      },
      "execution_count": null,
      "outputs": []
    },
    {
      "cell_type": "code",
      "source": [
        "# автора собрать сложнее:\n",
        "# достаем из тега meta как на паре или из тега a с проверкой на содержимое атрибута rel\n",
        "authors0 = ''\n",
        "for i in soup0.find_all('a', {'class': 'creator url fn'}, {'rel': 'author'}):\n",
        "  authors0 = authors0 + i.text.strip() + ' '\n",
        "print(authors0)"
      ],
      "metadata": {
        "id": "ZId6Z8_hCUXm",
        "colab": {
          "base_uri": "https://localhost:8080/"
        },
        "outputId": "4cf3ccc4-1b62-460b-97d0-6fe7ece2e79d"
      },
      "execution_count": 181,
      "outputs": [
        {
          "output_type": "stream",
          "name": "stdout",
          "text": [
            "DH Center ITMO University Елизавета Асташкина \n"
          ]
        }
      ]
    },
    {
      "cell_type": "code",
      "source": [
        "# тематические категории:\n",
        "# <a rel=\"category tag\"> нужные нам категории </a>\n",
        "# можно попробовать так:\n",
        "# if i.get('rel') == ['category', 'tag']\n",
        "tags0 = ''\n",
        "for i in soup0.find_all('a'):\n",
        "  if i.get('rel') == ['category', 'tag']:\n",
        "    tags0 = tags0 + i.text.strip() + ' '\n",
        "print(tags0)"
      ],
      "metadata": {
        "id": "l5mSYWsPCoBJ",
        "colab": {
          "base_uri": "https://localhost:8080/"
        },
        "outputId": "688a3f74-16f0-4ab2-ac6e-ba97ad93593d"
      },
      "execution_count": 178,
      "outputs": [
        {
          "output_type": "stream",
          "name": "stdout",
          "text": [
            "Блог DH ИТМО Блоги \n"
          ]
        }
      ]
    },
    {
      "cell_type": "markdown",
      "source": [
        "### шаг 4"
      ],
      "metadata": {
        "id": "_Si6KFXkDV9d"
      }
    },
    {
      "cell_type": "code",
      "source": [
        "# пишем функцию по сбору информации\n",
        "def INFO (url0):\n",
        "  news0 = rq.get(url0)\n",
        "  soup0 = BeautifulSoup(news0.text)\n",
        "  time0 = soup0.find('time').text\n",
        "  title0 = soup0.find('h1').text\n",
        "  text0 = ''\n",
        "  for i in soup0.find_all('p'):\n",
        "    text0 += i.text.strip()\n",
        "  authors0 = ''\n",
        "  for i in soup0.find_all('a', {'class': 'creator url fn'}, {'rel': 'author'}):\n",
        "    authors0 = authors0 + i.text.strip() + ' '\n",
        "  tags0 = ''\n",
        "  for i in soup0.find_all('a'):\n",
        "    if i.get('rel') == ['category', 'tag']:\n",
        "      tags0 = tags0 + i.text.strip() + ' '\n",
        "  return url0, time0, title0, text0, authors0, tags0"
      ],
      "metadata": {
        "id": "E8iEHxY7DYq2"
      },
      "execution_count": 182,
      "outputs": []
    },
    {
      "cell_type": "code",
      "source": [
        "# собираем все новости!\n",
        "# полезно использовать try / except\n",
        "all_news = []\n",
        "for i in all_links:\n",
        "  try:\n",
        "    new = INFO(i)\n",
        "    all_news.append(new)\n",
        "  except:\n",
        "    print('Error')"
      ],
      "metadata": {
        "id": "Tp4tcVgGDeJs"
      },
      "execution_count": 184,
      "outputs": []
    },
    {
      "cell_type": "markdown",
      "source": [
        "### шаг 5"
      ],
      "metadata": {
        "id": "i2gKsPgUDkMf"
      }
    },
    {
      "cell_type": "code",
      "source": [
        "# соберите всю собранную информацию в датафрейм\n",
        "df = pd.DataFrame(all_news, columns = ['Ссылка', 'Дата', 'Название', 'Текст', 'Авторы', 'Теги'])\n",
        "df"
      ],
      "metadata": {
        "id": "5Aj9qgg8DjiJ",
        "colab": {
          "base_uri": "https://localhost:8080/",
          "height": 563
        },
        "outputId": "c55c4ed0-107d-4a23-d647-5e0e03c2cced"
      },
      "execution_count": 187,
      "outputs": [
        {
          "output_type": "execute_result",
          "data": {
            "text/plain": [
              "                                                Ссылка        Дата  \\\n",
              "0    https://sysblok.ru/blog/kak-nepredvzjato-izuch...  22.12.2023   \n",
              "1    https://sysblok.ru/uncategorized/mashinnoe-obu...  17.11.2023   \n",
              "2    https://sysblok.ru/blog/piraty-jelfijskij-jazy...  10.11.2023   \n",
              "3    https://sysblok.ru/urban/kak-cifrovye-metody-s...  27.12.2023   \n",
              "4    https://sysblok.ru/test/krash-test-dlja-ljubit...  25.12.2023   \n",
              "..                                                 ...         ...   \n",
              "930  https://sysblok.ru/urban/iz-londona-v-rim-za-p...  18.07.2018   \n",
              "931  https://sysblok.ru/knowhow/chto-takoe-n-grammy...  13.07.2018   \n",
              "932  https://sysblok.ru/society/nejroset-raspoznala...  12.07.2018   \n",
              "933  https://sysblok.ru/visual/akinfeev-spasibo-ne-...  10.07.2018   \n",
              "934         https://sysblok.ru/philology/smert-v-seti/  09.07.2018   \n",
              "\n",
              "                                              Название  \\\n",
              "0    Как непредвзято изучать организации? Интервью ...   \n",
              "1                     Машинное обучение: классификация   \n",
              "2    Пираты, эльфийский язык и секретные послания: ...   \n",
              "3         Как цифровые методы спасают людей от аварий?   \n",
              "4                 Краш-тест для любителей дешёвых драм   \n",
              "..                                                 ...   \n",
              "930  Из Лондона в Рим — за пару тысяч лет до Skysca...   \n",
              "931                Что такое N-граммы и с чем их едят?   \n",
              "932  Нейросеть распознала роды, саксофонистов и кен...   \n",
              "933                      Акинфеев, спасибо, не верится   \n",
              "934         Смерть в сети: зачем литературоведам графы   \n",
              "\n",
              "                                                 Текст  \\\n",
              "0    Разговор о связи социологии организаций и Digi...   \n",
              "1    Продолжаем разговор о машинном обучении. Сегод...   \n",
              "2    Как Галилео Галилей защищал своё первенство в ...   \n",
              "3    Власти Нью-Йорка решили к 2024 году снизить чи...   \n",
              "4    Применить цифровые технологии к пьесам Шекспир...   \n",
              "..                                                 ...   \n",
              "930  Интерактивная карта для планирования бюджетных...   \n",
              "931  Вы могли уже встречать термин N-грамма. Если в...   \n",
              "932  Легендарный журнал LIFE пережил второе рождени...   \n",
              "933  Как болели за Россию в твиттере: география и л...   \n",
              "934  Как анализ социальных сетей Гамлета и Наташи Р...   \n",
              "\n",
              "                                                Авторы  \\\n",
              "0       DH Center ITMO University Елизавета Асташкина    \n",
              "1                                       Олег Лашманов    \n",
              "2                     Музей криптографии Егор Ефремов    \n",
              "3    Александра Балутина Анна Баранова Анна Баранов...   \n",
              "4             Француаза Ли Дарья Гуревич Юля Данилова    \n",
              "..                                                 ...   \n",
              "930                                  Даниил Скоринкин    \n",
              "931                                  Даниил Скоринкин    \n",
              "932                                   Системный Блокъ    \n",
              "933                                       Оля Ивлиева    \n",
              "934                                  Даниил Скоринкин    \n",
              "\n",
              "                                   Теги  \n",
              "0                   Блог DH ИТМО Блоги   \n",
              "1    Блог Олега Лашманова Блоги Разное   \n",
              "2        Блог Музея криптографии Блоги   \n",
              "3                          Урбанистика   \n",
              "4                      Тесты Филология   \n",
              "..                                  ...  \n",
              "930                        Урбанистика   \n",
              "931                   Как это работает   \n",
              "932                           Общество   \n",
              "933                       Визуализация   \n",
              "934                          Филология   \n",
              "\n",
              "[935 rows x 6 columns]"
            ],
            "text/html": [
              "\n",
              "  <div id=\"df-674b6e03-cd99-423e-b31f-e32eb6eaa94f\" class=\"colab-df-container\">\n",
              "    <div>\n",
              "<style scoped>\n",
              "    .dataframe tbody tr th:only-of-type {\n",
              "        vertical-align: middle;\n",
              "    }\n",
              "\n",
              "    .dataframe tbody tr th {\n",
              "        vertical-align: top;\n",
              "    }\n",
              "\n",
              "    .dataframe thead th {\n",
              "        text-align: right;\n",
              "    }\n",
              "</style>\n",
              "<table border=\"1\" class=\"dataframe\">\n",
              "  <thead>\n",
              "    <tr style=\"text-align: right;\">\n",
              "      <th></th>\n",
              "      <th>Ссылка</th>\n",
              "      <th>Дата</th>\n",
              "      <th>Название</th>\n",
              "      <th>Текст</th>\n",
              "      <th>Авторы</th>\n",
              "      <th>Теги</th>\n",
              "    </tr>\n",
              "  </thead>\n",
              "  <tbody>\n",
              "    <tr>\n",
              "      <th>0</th>\n",
              "      <td>https://sysblok.ru/blog/kak-nepredvzjato-izuch...</td>\n",
              "      <td>22.12.2023</td>\n",
              "      <td>Как непредвзято изучать организации? Интервью ...</td>\n",
              "      <td>Разговор о связи социологии организаций и Digi...</td>\n",
              "      <td>DH Center ITMO University Елизавета Асташкина</td>\n",
              "      <td>Блог DH ИТМО Блоги</td>\n",
              "    </tr>\n",
              "    <tr>\n",
              "      <th>1</th>\n",
              "      <td>https://sysblok.ru/uncategorized/mashinnoe-obu...</td>\n",
              "      <td>17.11.2023</td>\n",
              "      <td>Машинное обучение: классификация</td>\n",
              "      <td>Продолжаем разговор о машинном обучении. Сегод...</td>\n",
              "      <td>Олег Лашманов</td>\n",
              "      <td>Блог Олега Лашманова Блоги Разное</td>\n",
              "    </tr>\n",
              "    <tr>\n",
              "      <th>2</th>\n",
              "      <td>https://sysblok.ru/blog/piraty-jelfijskij-jazy...</td>\n",
              "      <td>10.11.2023</td>\n",
              "      <td>Пираты, эльфийский язык и секретные послания: ...</td>\n",
              "      <td>Как Галилео Галилей защищал своё первенство в ...</td>\n",
              "      <td>Музей криптографии Егор Ефремов</td>\n",
              "      <td>Блог Музея криптографии Блоги</td>\n",
              "    </tr>\n",
              "    <tr>\n",
              "      <th>3</th>\n",
              "      <td>https://sysblok.ru/urban/kak-cifrovye-metody-s...</td>\n",
              "      <td>27.12.2023</td>\n",
              "      <td>Как цифровые методы спасают людей от аварий?</td>\n",
              "      <td>Власти Нью-Йорка решили к 2024 году снизить чи...</td>\n",
              "      <td>Александра Балутина Анна Баранова Анна Баранов...</td>\n",
              "      <td>Урбанистика</td>\n",
              "    </tr>\n",
              "    <tr>\n",
              "      <th>4</th>\n",
              "      <td>https://sysblok.ru/test/krash-test-dlja-ljubit...</td>\n",
              "      <td>25.12.2023</td>\n",
              "      <td>Краш-тест для любителей дешёвых драм</td>\n",
              "      <td>Применить цифровые технологии к пьесам Шекспир...</td>\n",
              "      <td>Француаза Ли Дарья Гуревич Юля Данилова</td>\n",
              "      <td>Тесты Филология</td>\n",
              "    </tr>\n",
              "    <tr>\n",
              "      <th>...</th>\n",
              "      <td>...</td>\n",
              "      <td>...</td>\n",
              "      <td>...</td>\n",
              "      <td>...</td>\n",
              "      <td>...</td>\n",
              "      <td>...</td>\n",
              "    </tr>\n",
              "    <tr>\n",
              "      <th>930</th>\n",
              "      <td>https://sysblok.ru/urban/iz-londona-v-rim-za-p...</td>\n",
              "      <td>18.07.2018</td>\n",
              "      <td>Из Лондона в Рим — за пару тысяч лет до Skysca...</td>\n",
              "      <td>Интерактивная карта для планирования бюджетных...</td>\n",
              "      <td>Даниил Скоринкин</td>\n",
              "      <td>Урбанистика</td>\n",
              "    </tr>\n",
              "    <tr>\n",
              "      <th>931</th>\n",
              "      <td>https://sysblok.ru/knowhow/chto-takoe-n-grammy...</td>\n",
              "      <td>13.07.2018</td>\n",
              "      <td>Что такое N-граммы и с чем их едят?</td>\n",
              "      <td>Вы могли уже встречать термин N-грамма. Если в...</td>\n",
              "      <td>Даниил Скоринкин</td>\n",
              "      <td>Как это работает</td>\n",
              "    </tr>\n",
              "    <tr>\n",
              "      <th>932</th>\n",
              "      <td>https://sysblok.ru/society/nejroset-raspoznala...</td>\n",
              "      <td>12.07.2018</td>\n",
              "      <td>Нейросеть распознала роды, саксофонистов и кен...</td>\n",
              "      <td>Легендарный журнал LIFE пережил второе рождени...</td>\n",
              "      <td>Системный Блокъ</td>\n",
              "      <td>Общество</td>\n",
              "    </tr>\n",
              "    <tr>\n",
              "      <th>933</th>\n",
              "      <td>https://sysblok.ru/visual/akinfeev-spasibo-ne-...</td>\n",
              "      <td>10.07.2018</td>\n",
              "      <td>Акинфеев, спасибо, не верится</td>\n",
              "      <td>Как болели за Россию в твиттере: география и л...</td>\n",
              "      <td>Оля Ивлиева</td>\n",
              "      <td>Визуализация</td>\n",
              "    </tr>\n",
              "    <tr>\n",
              "      <th>934</th>\n",
              "      <td>https://sysblok.ru/philology/smert-v-seti/</td>\n",
              "      <td>09.07.2018</td>\n",
              "      <td>Смерть в сети: зачем литературоведам графы</td>\n",
              "      <td>Как анализ социальных сетей Гамлета и Наташи Р...</td>\n",
              "      <td>Даниил Скоринкин</td>\n",
              "      <td>Филология</td>\n",
              "    </tr>\n",
              "  </tbody>\n",
              "</table>\n",
              "<p>935 rows × 6 columns</p>\n",
              "</div>\n",
              "    <div class=\"colab-df-buttons\">\n",
              "\n",
              "  <div class=\"colab-df-container\">\n",
              "    <button class=\"colab-df-convert\" onclick=\"convertToInteractive('df-674b6e03-cd99-423e-b31f-e32eb6eaa94f')\"\n",
              "            title=\"Convert this dataframe to an interactive table.\"\n",
              "            style=\"display:none;\">\n",
              "\n",
              "  <svg xmlns=\"http://www.w3.org/2000/svg\" height=\"24px\" viewBox=\"0 -960 960 960\">\n",
              "    <path d=\"M120-120v-720h720v720H120Zm60-500h600v-160H180v160Zm220 220h160v-160H400v160Zm0 220h160v-160H400v160ZM180-400h160v-160H180v160Zm440 0h160v-160H620v160ZM180-180h160v-160H180v160Zm440 0h160v-160H620v160Z\"/>\n",
              "  </svg>\n",
              "    </button>\n",
              "\n",
              "  <style>\n",
              "    .colab-df-container {\n",
              "      display:flex;\n",
              "      gap: 12px;\n",
              "    }\n",
              "\n",
              "    .colab-df-convert {\n",
              "      background-color: #E8F0FE;\n",
              "      border: none;\n",
              "      border-radius: 50%;\n",
              "      cursor: pointer;\n",
              "      display: none;\n",
              "      fill: #1967D2;\n",
              "      height: 32px;\n",
              "      padding: 0 0 0 0;\n",
              "      width: 32px;\n",
              "    }\n",
              "\n",
              "    .colab-df-convert:hover {\n",
              "      background-color: #E2EBFA;\n",
              "      box-shadow: 0px 1px 2px rgba(60, 64, 67, 0.3), 0px 1px 3px 1px rgba(60, 64, 67, 0.15);\n",
              "      fill: #174EA6;\n",
              "    }\n",
              "\n",
              "    .colab-df-buttons div {\n",
              "      margin-bottom: 4px;\n",
              "    }\n",
              "\n",
              "    [theme=dark] .colab-df-convert {\n",
              "      background-color: #3B4455;\n",
              "      fill: #D2E3FC;\n",
              "    }\n",
              "\n",
              "    [theme=dark] .colab-df-convert:hover {\n",
              "      background-color: #434B5C;\n",
              "      box-shadow: 0px 1px 3px 1px rgba(0, 0, 0, 0.15);\n",
              "      filter: drop-shadow(0px 1px 2px rgba(0, 0, 0, 0.3));\n",
              "      fill: #FFFFFF;\n",
              "    }\n",
              "  </style>\n",
              "\n",
              "    <script>\n",
              "      const buttonEl =\n",
              "        document.querySelector('#df-674b6e03-cd99-423e-b31f-e32eb6eaa94f button.colab-df-convert');\n",
              "      buttonEl.style.display =\n",
              "        google.colab.kernel.accessAllowed ? 'block' : 'none';\n",
              "\n",
              "      async function convertToInteractive(key) {\n",
              "        const element = document.querySelector('#df-674b6e03-cd99-423e-b31f-e32eb6eaa94f');\n",
              "        const dataTable =\n",
              "          await google.colab.kernel.invokeFunction('convertToInteractive',\n",
              "                                                    [key], {});\n",
              "        if (!dataTable) return;\n",
              "\n",
              "        const docLinkHtml = 'Like what you see? Visit the ' +\n",
              "          '<a target=\"_blank\" href=https://colab.research.google.com/notebooks/data_table.ipynb>data table notebook</a>'\n",
              "          + ' to learn more about interactive tables.';\n",
              "        element.innerHTML = '';\n",
              "        dataTable['output_type'] = 'display_data';\n",
              "        await google.colab.output.renderOutput(dataTable, element);\n",
              "        const docLink = document.createElement('div');\n",
              "        docLink.innerHTML = docLinkHtml;\n",
              "        element.appendChild(docLink);\n",
              "      }\n",
              "    </script>\n",
              "  </div>\n",
              "\n",
              "\n",
              "<div id=\"df-4d3fa938-f54c-4ebb-a367-8d70b4b17d55\">\n",
              "  <button class=\"colab-df-quickchart\" onclick=\"quickchart('df-4d3fa938-f54c-4ebb-a367-8d70b4b17d55')\"\n",
              "            title=\"Suggest charts\"\n",
              "            style=\"display:none;\">\n",
              "\n",
              "<svg xmlns=\"http://www.w3.org/2000/svg\" height=\"24px\"viewBox=\"0 0 24 24\"\n",
              "     width=\"24px\">\n",
              "    <g>\n",
              "        <path d=\"M19 3H5c-1.1 0-2 .9-2 2v14c0 1.1.9 2 2 2h14c1.1 0 2-.9 2-2V5c0-1.1-.9-2-2-2zM9 17H7v-7h2v7zm4 0h-2V7h2v10zm4 0h-2v-4h2v4z\"/>\n",
              "    </g>\n",
              "</svg>\n",
              "  </button>\n",
              "\n",
              "<style>\n",
              "  .colab-df-quickchart {\n",
              "      --bg-color: #E8F0FE;\n",
              "      --fill-color: #1967D2;\n",
              "      --hover-bg-color: #E2EBFA;\n",
              "      --hover-fill-color: #174EA6;\n",
              "      --disabled-fill-color: #AAA;\n",
              "      --disabled-bg-color: #DDD;\n",
              "  }\n",
              "\n",
              "  [theme=dark] .colab-df-quickchart {\n",
              "      --bg-color: #3B4455;\n",
              "      --fill-color: #D2E3FC;\n",
              "      --hover-bg-color: #434B5C;\n",
              "      --hover-fill-color: #FFFFFF;\n",
              "      --disabled-bg-color: #3B4455;\n",
              "      --disabled-fill-color: #666;\n",
              "  }\n",
              "\n",
              "  .colab-df-quickchart {\n",
              "    background-color: var(--bg-color);\n",
              "    border: none;\n",
              "    border-radius: 50%;\n",
              "    cursor: pointer;\n",
              "    display: none;\n",
              "    fill: var(--fill-color);\n",
              "    height: 32px;\n",
              "    padding: 0;\n",
              "    width: 32px;\n",
              "  }\n",
              "\n",
              "  .colab-df-quickchart:hover {\n",
              "    background-color: var(--hover-bg-color);\n",
              "    box-shadow: 0 1px 2px rgba(60, 64, 67, 0.3), 0 1px 3px 1px rgba(60, 64, 67, 0.15);\n",
              "    fill: var(--button-hover-fill-color);\n",
              "  }\n",
              "\n",
              "  .colab-df-quickchart-complete:disabled,\n",
              "  .colab-df-quickchart-complete:disabled:hover {\n",
              "    background-color: var(--disabled-bg-color);\n",
              "    fill: var(--disabled-fill-color);\n",
              "    box-shadow: none;\n",
              "  }\n",
              "\n",
              "  .colab-df-spinner {\n",
              "    border: 2px solid var(--fill-color);\n",
              "    border-color: transparent;\n",
              "    border-bottom-color: var(--fill-color);\n",
              "    animation:\n",
              "      spin 1s steps(1) infinite;\n",
              "  }\n",
              "\n",
              "  @keyframes spin {\n",
              "    0% {\n",
              "      border-color: transparent;\n",
              "      border-bottom-color: var(--fill-color);\n",
              "      border-left-color: var(--fill-color);\n",
              "    }\n",
              "    20% {\n",
              "      border-color: transparent;\n",
              "      border-left-color: var(--fill-color);\n",
              "      border-top-color: var(--fill-color);\n",
              "    }\n",
              "    30% {\n",
              "      border-color: transparent;\n",
              "      border-left-color: var(--fill-color);\n",
              "      border-top-color: var(--fill-color);\n",
              "      border-right-color: var(--fill-color);\n",
              "    }\n",
              "    40% {\n",
              "      border-color: transparent;\n",
              "      border-right-color: var(--fill-color);\n",
              "      border-top-color: var(--fill-color);\n",
              "    }\n",
              "    60% {\n",
              "      border-color: transparent;\n",
              "      border-right-color: var(--fill-color);\n",
              "    }\n",
              "    80% {\n",
              "      border-color: transparent;\n",
              "      border-right-color: var(--fill-color);\n",
              "      border-bottom-color: var(--fill-color);\n",
              "    }\n",
              "    90% {\n",
              "      border-color: transparent;\n",
              "      border-bottom-color: var(--fill-color);\n",
              "    }\n",
              "  }\n",
              "</style>\n",
              "\n",
              "  <script>\n",
              "    async function quickchart(key) {\n",
              "      const quickchartButtonEl =\n",
              "        document.querySelector('#' + key + ' button');\n",
              "      quickchartButtonEl.disabled = true;  // To prevent multiple clicks.\n",
              "      quickchartButtonEl.classList.add('colab-df-spinner');\n",
              "      try {\n",
              "        const charts = await google.colab.kernel.invokeFunction(\n",
              "            'suggestCharts', [key], {});\n",
              "      } catch (error) {\n",
              "        console.error('Error during call to suggestCharts:', error);\n",
              "      }\n",
              "      quickchartButtonEl.classList.remove('colab-df-spinner');\n",
              "      quickchartButtonEl.classList.add('colab-df-quickchart-complete');\n",
              "    }\n",
              "    (() => {\n",
              "      let quickchartButtonEl =\n",
              "        document.querySelector('#df-4d3fa938-f54c-4ebb-a367-8d70b4b17d55 button');\n",
              "      quickchartButtonEl.style.display =\n",
              "        google.colab.kernel.accessAllowed ? 'block' : 'none';\n",
              "    })();\n",
              "  </script>\n",
              "</div>\n",
              "    </div>\n",
              "  </div>\n"
            ]
          },
          "metadata": {},
          "execution_count": 187
        }
      ]
    },
    {
      "cell_type": "code",
      "source": [
        "df.to_excel('Homework2.xlsx')"
      ],
      "metadata": {
        "id": "q_fpJ3f1DqvX"
      },
      "execution_count": 189,
      "outputs": []
    },
    {
      "cell_type": "markdown",
      "source": [
        "Готово!\n",
        "Загрузите ваш код и собранные новости на GitHub"
      ],
      "metadata": {
        "id": "0lXQWScoDrFm"
      }
    }
  ]
}